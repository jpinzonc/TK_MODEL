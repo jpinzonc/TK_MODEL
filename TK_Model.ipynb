{
  "nbformat": 4,
  "nbformat_minor": 0,
  "metadata": {
    "colab": {
      "name": "TK_Model.ipynb",
      "version": "0.3.2",
      "provenance": []
    },
    "kernelspec": {
      "name": "python3",
      "display_name": "Python 3"
    },
    "accelerator": "GPU"
  },
  "cells": [
    {
      "metadata": {
        "id": "leOtgdkL-aMT",
        "colab_type": "code",
        "colab": {}
      },
      "cell_type": "code",
      "source": [
        "import os\n",
        "from google.colab import drive\n",
        "drive.mount('/content/gdrive')"
      ],
      "execution_count": 0,
      "outputs": []
    },
    {
      "metadata": {
        "id": "_rgXbfAx-8E6",
        "colab_type": "code",
        "colab": {}
      },
      "cell_type": "code",
      "source": [
        "!pip install kaggle\n",
        "!mkdir ~/.kaggle\n",
        "!cp /content/gdrive/My\\ Drive/kaggle.json /root/.kaggle/\n",
        "!chmod 600 /root/.kaggle/kaggle.json"
      ],
      "execution_count": 0,
      "outputs": []
    },
    {
      "metadata": {
        "id": "3KiiO88SgjT6",
        "colab_type": "code",
        "colab": {}
      },
      "cell_type": "code",
      "source": [
        "!kaggle competitions download  talkingdata-adtracking-fraud-detection"
      ],
      "execution_count": 0,
      "outputs": []
    },
    {
      "metadata": {
        "id": "o7at3pATQYEM",
        "colab_type": "code",
        "colab": {}
      },
      "cell_type": "code",
      "source": [
        "#if not os.path.exists(\"/TK_Model\"):\n",
        "#    os.makedirs(\"/TK_Model\")\n",
        "#os.chdir('/TK_Model')\n",
        "os.listdir('.')"
      ],
      "execution_count": 0,
      "outputs": []
    },
    {
      "metadata": {
        "id": "e5WvnKUUSygo",
        "colab_type": "code",
        "colab": {}
      },
      "cell_type": "code",
      "source": [
        "import pandas as pd\n",
        "import numpy as np\n",
        "import datetime as dt\n",
        "\n",
        "from sklearn.model_selection import train_test_split,  cross_val_score, GridSearchCV\n",
        "from sklearn.preprocessing import StandardScaler, LabelEncoder\n",
        "from sklearn.externals import joblib\n",
        "\n",
        "from keras.models import Sequential\n",
        "from keras.layers import Dense, Activation, Dropout\n",
        "from keras.wrappers.scikit_learn import KerasClassifier # keras wrapper for sklearn\n",
        "\n",
        "import json\n",
        "import zipfile"
      ],
      "execution_count": 0,
      "outputs": []
    },
    {
      "metadata": {
        "id": "L4IXBPo3gFXf",
        "colab_type": "code",
        "colab": {}
      },
      "cell_type": "code",
      "source": [
        "# The whole complete training file:\n",
        "zipfile.ZipFile('train.csv.zip').extractall('train.csv')\n",
        "# The whole complete train_sample file:\n",
        "zipfile.ZipFile('train.csv.zip').extractall('train_sample.csv')"
      ],
      "execution_count": 0,
      "outputs": []
    },
    {
      "metadata": {
        "id": "5voA4dHWNUGd",
        "colab_type": "code",
        "colab": {}
      },
      "cell_type": "code",
      "source": [
        "os.listdir('.')"
      ],
      "execution_count": 0,
      "outputs": []
    },
    {
      "metadata": {
        "id": "19DJNzxsSygx",
        "colab_type": "code",
        "colab": {}
      },
      "cell_type": "code",
      "source": [
        "data_s = pd.read_csv('train.csv/mnt/ssd/kaggle-talkingdata2/competition_files/train_sample.csv',  engine='python')"
      ],
      "execution_count": 0,
      "outputs": []
    },
    {
      "metadata": {
        "id": "SngpQ_XOSyg1",
        "colab_type": "code",
        "colab": {}
      },
      "cell_type": "code",
      "source": [
        "data_s.sort_values(by='attributed_time', ascending = False).head()"
      ],
      "execution_count": 0,
      "outputs": []
    },
    {
      "metadata": {
        "id": "WP9YPDr0SyhA",
        "colab_type": "code",
        "colab": {}
      },
      "cell_type": "code",
      "source": [
        "data_s.shape"
      ],
      "execution_count": 0,
      "outputs": []
    },
    {
      "metadata": {
        "id": "5d-_ouC6SyhE",
        "colab_type": "code",
        "colab": {}
      },
      "cell_type": "code",
      "source": [
        "# Checking for NANs\n",
        "for col in data_s.columns:\n",
        "    print('{} contains {:,} NANs'.format(col,len(data_s[data_s[col].isnull()])))"
      ],
      "execution_count": 0,
      "outputs": []
    },
    {
      "metadata": {
        "id": "zA2jDVi5SyhJ",
        "colab_type": "text"
      },
      "cell_type": "markdown",
      "source": [
        "Only attributed time has NANs, but I am not using this column"
      ]
    },
    {
      "metadata": {
        "id": "mwZY8O59SyhK",
        "colab_type": "code",
        "colab": {}
      },
      "cell_type": "code",
      "source": [
        "# Removing attributed_time\n",
        "data_s = data_s.drop('attributed_time', axis = 1)"
      ],
      "execution_count": 0,
      "outputs": []
    },
    {
      "metadata": {
        "id": "ezHIj2z_SyhN",
        "colab_type": "code",
        "colab": {}
      },
      "cell_type": "code",
      "source": [
        "data_s.head()"
      ],
      "execution_count": 0,
      "outputs": []
    },
    {
      "metadata": {
        "id": "0BHAbPTzSyhR",
        "colab_type": "code",
        "colab": {}
      },
      "cell_type": "code",
      "source": [
        "# Convert click_time to datetime format\n",
        "data_s.click_time = pd.to_datetime(data_s.click_time, errors = 'ignore')"
      ],
      "execution_count": 0,
      "outputs": []
    },
    {
      "metadata": {
        "id": "w-wLWh_ZSyhT",
        "colab_type": "code",
        "colab": {}
      },
      "cell_type": "code",
      "source": [
        "# Determine and coding time of the day the site was accessed\n",
        "# 1 = Night, 2 = Morning, 3 = Afternoon, 4 = Evening\n",
        "data_s = data_s.assign(session = pd.cut(data_s.click_time.dt.hour,[-1,6,12,18,24],labels=[1, 2, 3,4 ]))\n",
        "#data_s.session = data_s.session.astype(np.int64)\n",
        "#data_s = data_s.drop('click_time', 1)"
      ],
      "execution_count": 0,
      "outputs": []
    },
    {
      "metadata": {
        "id": "bpd8ro8oSyhY",
        "colab_type": "code",
        "colab": {}
      },
      "cell_type": "code",
      "source": [
        "data_s.head()"
      ],
      "execution_count": 0,
      "outputs": []
    },
    {
      "metadata": {
        "id": "9Z6lmPSzSyhh",
        "colab_type": "code",
        "colab": {}
      },
      "cell_type": "code",
      "source": [
        "data_s = data_s[['ip', 'app', 'device', 'os', 'channel', 'session','is_attributed']]"
      ],
      "execution_count": 0,
      "outputs": []
    },
    {
      "metadata": {
        "id": "ik2cQ4MDSyhn",
        "colab_type": "code",
        "colab": {}
      },
      "cell_type": "code",
      "source": [
        "from collections import defaultdict\n",
        "d = defaultdict(LabelEncoder)\n",
        "# Encoding the variable\n",
        "data_e = data_s.apply(lambda x: d[x.name].fit_transform(x))\n",
        "\n",
        "# Inverse the encoded\n",
        "#fit.apply(lambda x: d[x.name].inverse_transform(x))\n",
        "# Using the dictionary to label future data\n",
        "#data_s.apply(lambda x: d[x.name].transform(x))"
      ],
      "execution_count": 0,
      "outputs": []
    },
    {
      "metadata": {
        "id": "jwdASqz3Syhr",
        "colab_type": "code",
        "colab": {}
      },
      "cell_type": "code",
      "source": [
        "data_e.head()"
      ],
      "execution_count": 0,
      "outputs": []
    },
    {
      "metadata": {
        "id": "y7ZENfu2Syhu",
        "colab_type": "code",
        "colab": {}
      },
      "cell_type": "code",
      "source": [
        "data_s = data_s.reset_index(drop = False).rename(columns={'index':'click_id'})"
      ],
      "execution_count": 0,
      "outputs": []
    },
    {
      "metadata": {
        "id": "X0HjC3EASyhw",
        "colab_type": "code",
        "colab": {}
      },
      "cell_type": "code",
      "source": [
        "data_s.is_attributed.unique()"
      ],
      "execution_count": 0,
      "outputs": []
    },
    {
      "metadata": {
        "id": "BVogR9_ESyh2",
        "colab_type": "code",
        "colab": {}
      },
      "cell_type": "code",
      "source": [
        "data_s.info()"
      ],
      "execution_count": 0,
      "outputs": []
    },
    {
      "metadata": {
        "id": "fuAhjC_5tpNs",
        "colab_type": "code",
        "colab": {}
      },
      "cell_type": "code",
      "source": [
        "data_s.loc[:,'session'] = data_s.session.astype(np.int)"
      ],
      "execution_count": 0,
      "outputs": []
    },
    {
      "metadata": {
        "id": "RqYe_CFhSyiB",
        "colab_type": "code",
        "colab": {}
      },
      "cell_type": "code",
      "source": [
        "data_s.sort_values(by='ip').head()"
      ],
      "execution_count": 0,
      "outputs": []
    },
    {
      "metadata": {
        "id": "Hz5BhjH8SyiE",
        "colab_type": "text"
      },
      "cell_type": "markdown",
      "source": [
        "# Aritificial Neural Network \n",
        "\n",
        "### Split data into target and features"
      ]
    },
    {
      "metadata": {
        "id": "9afhB6ohSyiF",
        "colab_type": "code",
        "colab": {}
      },
      "cell_type": "code",
      "source": [
        "target = data_s.is_attributed.values\n",
        "features = data_s.drop('is_attributed', 1).values\n",
        "print ('Data original %d, target: %d, features: %d' % (data_s.shape[0], target.shape[0], features.shape[0]))"
      ],
      "execution_count": 0,
      "outputs": []
    },
    {
      "metadata": {
        "id": "Zv_-ovFESyiG",
        "colab_type": "text"
      },
      "cell_type": "markdown",
      "source": [
        "### Split features into training, validation, and testing sets"
      ]
    },
    {
      "metadata": {
        "id": "V-94KZkOSyiI",
        "colab_type": "code",
        "colab": {}
      },
      "cell_type": "code",
      "source": [
        "X_train, X_test, y_train, y_test  = train_test_split(features, target, test_size= 0.25, random_state=1)\n",
        "X_train, X_val, y_train, y_val    = train_test_split(X_train, y_train, test_size= 0.20, random_state=1)\n",
        "\n",
        "X_train_names = X_train[:,0]\n",
        "X_train = X_train[:,1:7]\n",
        "\n",
        "X_test_names = X_test[:,0]\n",
        "X_test = X_test[:,1:7]\n",
        "                  \n",
        "X_val_names = X_val[:,0]\n",
        "X_val = X_val[:,1:7]"
      ],
      "execution_count": 0,
      "outputs": []
    },
    {
      "metadata": {
        "id": "MK-TiTTGSyiL",
        "colab_type": "text"
      },
      "cell_type": "markdown",
      "source": [
        "### Standarizing the features"
      ]
    },
    {
      "metadata": {
        "id": "6M1hPjIgSyiM",
        "colab_type": "code",
        "colab": {}
      },
      "cell_type": "code",
      "source": [
        "sc = StandardScaler()\n",
        "X_train = sc.fit_transform(X_train)\n",
        "X_val   = sc.transform(X_val)\n",
        "X_test  = sc.transform(X_test)"
      ],
      "execution_count": 0,
      "outputs": []
    },
    {
      "metadata": {
        "id": "uj8ny3k-SyiN",
        "colab_type": "code",
        "colab": {}
      },
      "cell_type": "code",
      "source": [
        "X_train"
      ],
      "execution_count": 0,
      "outputs": []
    },
    {
      "metadata": {
        "id": "FIwr_5soSyiQ",
        "colab_type": "text"
      },
      "cell_type": "markdown",
      "source": [
        "### Building the initial model "
      ]
    },
    {
      "metadata": {
        "id": "dLl-bPEGSyiQ",
        "colab_type": "code",
        "colab": {}
      },
      "cell_type": "code",
      "source": [
        "def classifier_model(activator, optimizer, initializer):\n",
        "    classifier = Sequential()\n",
        "    classifier.add(Dense(units = 10, kernel_initializer = initializer, activation = activator, input_dim = 6))\n",
        "    classifier.add(Dense(units = 10, kernel_initializer = initializer, activation = activator))\n",
        "    classifier.add(Dense(units = 1,  kernel_initializer = initializer, activation = 'sigmoid'))\n",
        "    classifier.compile(optimizer = optimizer, loss = 'binary_crossentropy', metrics = ['accuracy'])\n",
        "    return classifier"
      ],
      "execution_count": 0,
      "outputs": []
    },
    {
      "metadata": {
        "id": "YP9If3E5SyiT",
        "colab_type": "text"
      },
      "cell_type": "markdown",
      "source": [
        "### Fitting the model with the training set "
      ]
    },
    {
      "metadata": {
        "id": "SOu6SD_rSyiT",
        "colab_type": "code",
        "colab": {}
      },
      "cell_type": "code",
      "source": [
        "activator   = 'relu'\n",
        "optimizer   = 'adam'\n",
        "initializer = 'uniform'\n",
        "classifier = classifier_model(activator, optimizer, initializer)\n",
        "classifier.fit(X_train, y_train, batch_size = 10, epochs = 10)"
      ],
      "execution_count": 0,
      "outputs": []
    },
    {
      "metadata": {
        "id": "UNZ_5eBwSyiY",
        "colab_type": "text"
      },
      "cell_type": "markdown",
      "source": [
        "### Crossvalidation on training set"
      ]
    },
    {
      "metadata": {
        "id": "OWW-jUegSyiZ",
        "colab_type": "code",
        "colab": {}
      },
      "cell_type": "code",
      "source": [
        "# Using relu - as raw model above - as activator\n",
        "activator   = 'relu'\n",
        "optimizer   = 'adam'\n",
        "initializer = 'uniform'\n",
        "cv = 10 \n",
        "classifier_cv = KerasClassifier(build_fn = classifier_model, \n",
        "                                activator = activator, \n",
        "                                optimizer = optimizer,\n",
        "                                initializer = initializer,\n",
        "                                batch_size = 10, \n",
        "                                epochs = 10, \n",
        "                                verbose = 0)\n",
        "accuracies = cross_val_score(estimator = classifier_cv, X = X_train, y = y_train, cv = cv)\n",
        "\n",
        "mean = accuracies.mean()\n",
        "variance = accuracies.std()"
      ],
      "execution_count": 0,
      "outputs": []
    },
    {
      "metadata": {
        "id": "EqsJv597Syic",
        "colab_type": "code",
        "colab": {}
      },
      "cell_type": "code",
      "source": [
        "# Mean cv accuracy \n",
        "print('Mean cv accuracy (relu) = {:.4f}% +/- {:.4f}'.format(mean *100, variance *100) )"
      ],
      "execution_count": 0,
      "outputs": []
    },
    {
      "metadata": {
        "id": "rYsBytp8Syid",
        "colab_type": "text"
      },
      "cell_type": "markdown",
      "source": [
        "### Validation "
      ]
    },
    {
      "metadata": {
        "id": "0EK5eKLkSyie",
        "colab_type": "code",
        "colab": {}
      },
      "cell_type": "code",
      "source": [
        "loss, accuracy = classifier.evaluate(X_val, y_val, batch_size = 10, verbose = 0)\n",
        "print(\"Validation set accuracy = {:.4f}%, Loss = {:.4f}\".format(accuracy* 100, loss))"
      ],
      "execution_count": 0,
      "outputs": []
    },
    {
      "metadata": {
        "id": "P-qOAX4ZSyig",
        "colab_type": "code",
        "colab": {}
      },
      "cell_type": "code",
      "source": [
        "loss, accuracy = classifier.evaluate(X_train, y_train , batch_size = 128, verbose = 0)\n",
        "print(round(accuracy*100,2))"
      ],
      "execution_count": 0,
      "outputs": []
    },
    {
      "metadata": {
        "id": "UvDY_VaZSyih",
        "colab_type": "text"
      },
      "cell_type": "markdown",
      "source": [
        "### Optimization\n",
        "\n",
        "Using GridSearch"
      ]
    },
    {
      "metadata": {
        "id": "eJ1jJeHmSyij",
        "colab_type": "code",
        "colab": {}
      },
      "cell_type": "code",
      "source": [
        "classifier_op = KerasClassifier(build_fn = classifier_model)\n",
        "\n",
        "parameters = {'batch_size'  : [10, 30],\n",
        "              'epochs'      : [10, 20],\n",
        "              'optimizer'   : ['adam', 'rmsprop'],\n",
        "              'activator'   : ['relu', 'sigmoid'],\n",
        "              'initializer' : ['uniform']}\n",
        "\n",
        "grid_search = GridSearchCV(estimator = classifier_op,\n",
        "                           param_grid = parameters,\n",
        "                           scoring = 'accuracy',\n",
        "                           cv = 10)\n",
        "\n",
        "grid_search = grid_search.fit(X_train, y_train)\n",
        "\n",
        "best_parameters = grid_search.best_params_\n",
        "best_accuracy = grid_search.best_score_"
      ],
      "execution_count": 0,
      "outputs": []
    },
    {
      "metadata": {
        "id": "aLkeUz9fSyik",
        "colab_type": "code",
        "colab": {}
      },
      "cell_type": "code",
      "source": [
        "best_accuracy"
      ],
      "execution_count": 0,
      "outputs": []
    },
    {
      "metadata": {
        "id": "sOcAqbbWSyim",
        "colab_type": "code",
        "colab": {}
      },
      "cell_type": "code",
      "source": [
        "best_parameters"
      ],
      "execution_count": 0,
      "outputs": []
    },
    {
      "metadata": {
        "id": "qjHeXnPRSyio",
        "colab_type": "text"
      },
      "cell_type": "markdown",
      "source": [
        "# OPTIMIZED MODEL "
      ]
    },
    {
      "metadata": {
        "id": "nGjvThN7Syip",
        "colab_type": "code",
        "colab": {}
      },
      "cell_type": "code",
      "source": [
        "activator   = 'relu'\n",
        "optimizer   = 'adam'\n",
        "initializer = 'uniform'\n",
        "epoch = 10 \n",
        "classifier_opt = classifier_model(activator, optimizer, initializer)\n",
        "classifier_opt.fit(X_train, y_train, batch_size = 10, epochs = epoch, verbose = 0)"
      ],
      "execution_count": 0,
      "outputs": []
    },
    {
      "metadata": {
        "id": "6YSbQG0KSyiu",
        "colab_type": "code",
        "colab": {}
      },
      "cell_type": "code",
      "source": [
        "# Predicting on the test set \n",
        "y_pred = classifier_opt.predict(X_test)\n",
        "y_pred "
      ],
      "execution_count": 0,
      "outputs": []
    },
    {
      "metadata": {
        "id": "BAelSqvnSyix",
        "colab_type": "code",
        "colab": {}
      },
      "cell_type": "code",
      "source": [
        "from sklearn.metrics import f1_score\n",
        "f1_score(y_test, y_pred.round(), average='weighted')"
      ],
      "execution_count": 0,
      "outputs": []
    },
    {
      "metadata": {
        "id": "Kt_iqIGiSyiz",
        "colab_type": "code",
        "colab": {}
      },
      "cell_type": "code",
      "source": [
        "y_pred.round()"
      ],
      "execution_count": 0,
      "outputs": []
    },
    {
      "metadata": {
        "id": "QK7hZKotSyi2",
        "colab_type": "code",
        "colab": {}
      },
      "cell_type": "code",
      "source": [
        "y_classes = y_pred.argmax(axis=-1)\n",
        "y_a = pd.DataFrame([y_classes])\n",
        "y_b = pd.DataFrame([y_test])\n",
        "y_c = pd.DataFrame([X_test_names])\n",
        "y_a = pd.concat((y_a,y_b, y_c)).T\n",
        "y_a.columns = ['predicted', 'actual','click_id']\n",
        "y_a.head()"
      ],
      "execution_count": 0,
      "outputs": []
    },
    {
      "metadata": {
        "id": "ae-JHx2HSyi3",
        "colab_type": "code",
        "colab": {}
      },
      "cell_type": "code",
      "source": [
        "# Number of mismatches within the test set\n",
        "y_a['dif'] = np.where(y_a.predicted == y_a.actual, 0, 1)\n",
        "y_a[y_a['dif'] == 1].actual.value_counts().sort_index()"
      ],
      "execution_count": 0,
      "outputs": []
    },
    {
      "metadata": {
        "id": "qWsxt6x8Syi8",
        "colab_type": "code",
        "colab": {}
      },
      "cell_type": "code",
      "source": [
        ""
      ],
      "execution_count": 0,
      "outputs": []
    },
    {
      "metadata": {
        "id": "KjUOyLLfSyjA",
        "colab_type": "code",
        "colab": {}
      },
      "cell_type": "code",
      "source": [
        "classifier_opt.save('classifier.hdf5')\n",
        "joblib.dump(sc, 'scaler.pkl') "
      ],
      "execution_count": 0,
      "outputs": []
    },
    {
      "metadata": {
        "id": "FUlC7AxaSyjB",
        "colab_type": "text"
      },
      "cell_type": "markdown",
      "source": [
        "------------------\n",
        "PREDICTION ON THE TESTING DATASET"
      ]
    },
    {
      "metadata": {
        "id": "XsW3G5SVSyjC",
        "colab_type": "code",
        "colab": {}
      },
      "cell_type": "code",
      "source": [
        "from keras.models import load_model\n",
        "classifier = load_model('classifier.hdf5')\n",
        "from sklearn.preprocessing import StandardScaler\n",
        "sc = joblib.load('scaler.pkl')"
      ],
      "execution_count": 0,
      "outputs": []
    },
    {
      "metadata": {
        "id": "LJpAjKMUSyjD",
        "colab_type": "code",
        "colab": {}
      },
      "cell_type": "code",
      "source": [
        "test = pd.read_csv('test.csv')"
      ],
      "execution_count": 0,
      "outputs": []
    },
    {
      "metadata": {
        "id": "-74ewUjkSyjH",
        "colab_type": "code",
        "colab": {}
      },
      "cell_type": "code",
      "source": [
        "test.head()"
      ],
      "execution_count": 0,
      "outputs": []
    },
    {
      "metadata": {
        "id": "Xe6WGmarSyjK",
        "colab_type": "code",
        "colab": {}
      },
      "cell_type": "code",
      "source": [
        "# Convert click_time to datetime format\n",
        "test.click_time = pd.to_datetime(test.click_time, errors = 'ignore')"
      ],
      "execution_count": 0,
      "outputs": []
    },
    {
      "metadata": {
        "id": "VDUjXVF7SyjP",
        "colab_type": "code",
        "colab": {}
      },
      "cell_type": "code",
      "source": [
        "# Checking for NANs\n",
        "for col in test.columns:\n",
        "    print('{} contains {:,} NANs'.format(col,len(test[test[col].isnull()])))"
      ],
      "execution_count": 0,
      "outputs": []
    },
    {
      "metadata": {
        "id": "QB_oKu35SyjT",
        "colab_type": "code",
        "colab": {}
      },
      "cell_type": "code",
      "source": [
        "# Determine and coding time of the day the site was accessed\n",
        "# 1 = Night, 2 = Morning, 3 = Afternoon, 4 = Evening\n",
        "test = test.assign(session=pd.cut(test.click_time.dt.hour,[-1,6,12,18,24],labels=[1, 2, 3,4 ]))\n",
        "test = test.drop('click_time', 1)"
      ],
      "execution_count": 0,
      "outputs": []
    },
    {
      "metadata": {
        "id": "Oy1jhCkoSyjV",
        "colab_type": "code",
        "colab": {}
      },
      "cell_type": "code",
      "source": [
        "test.columns"
      ],
      "execution_count": 0,
      "outputs": []
    },
    {
      "metadata": {
        "id": "c1JISTDhSyjb",
        "colab_type": "code",
        "colab": {}
      },
      "cell_type": "code",
      "source": [
        "test = test[['ip', 'app', 'device', 'os', 'channel', 'session']]"
      ],
      "execution_count": 0,
      "outputs": []
    },
    {
      "metadata": {
        "id": "5GKGgsglSyjf",
        "colab_type": "code",
        "colab": {}
      },
      "cell_type": "code",
      "source": [
        "# Using the dictionary to label future data\n",
        "test.apply(lambda x: d[x.name].transform(x))"
      ],
      "execution_count": 0,
      "outputs": []
    },
    {
      "metadata": {
        "id": "upINKTvsSyjl",
        "colab_type": "code",
        "colab": {}
      },
      "cell_type": "code",
      "source": [
        "test = test.reset_index(drop = False)\n",
        "test = test.rename(columns={'index':'click_id'})\n",
        "test.head()"
      ],
      "execution_count": 0,
      "outputs": []
    },
    {
      "metadata": {
        "id": "gTrwji7ASyjo",
        "colab_type": "code",
        "colab": {}
      },
      "cell_type": "code",
      "source": [
        "print(len(test.channel.unique()))\n",
        "test.channel.value_counts().sort_index()"
      ],
      "execution_count": 0,
      "outputs": []
    },
    {
      "metadata": {
        "id": "5jdqDefNSyjq",
        "colab_type": "code",
        "colab": {}
      },
      "cell_type": "code",
      "source": [
        "test.dtypes"
      ],
      "execution_count": 0,
      "outputs": []
    },
    {
      "metadata": {
        "id": "LOQlm1VgSyjv",
        "colab_type": "code",
        "colab": {}
      },
      "cell_type": "code",
      "source": [
        "test_x_names = test.click_id\n",
        "test_x = test.drop('click_id', 1)\n"
      ],
      "execution_count": 0,
      "outputs": []
    },
    {
      "metadata": {
        "id": "3441jztTSyjw",
        "colab_type": "code",
        "colab": {}
      },
      "cell_type": "code",
      "source": [
        "X_2016 = sc.transform(test_x)"
      ],
      "execution_count": 0,
      "outputs": []
    },
    {
      "metadata": {
        "id": "NOu2ndYYSyjy",
        "colab_type": "code",
        "colab": {}
      },
      "cell_type": "code",
      "source": [
        "# Predicting on the test set \n",
        "predictions = classifier.predict(X_2016)\n",
        "predictions"
      ],
      "execution_count": 0,
      "outputs": []
    },
    {
      "metadata": {
        "id": "ahwVpiq1Syj0",
        "colab_type": "code",
        "colab": {}
      },
      "cell_type": "code",
      "source": [
        "pred_clas = classifier.predict_classes(X_2016)"
      ],
      "execution_count": 0,
      "outputs": []
    },
    {
      "metadata": {
        "id": "W0A10tYPSyj3",
        "colab_type": "code",
        "colab": {}
      },
      "cell_type": "code",
      "source": [
        "labels_ = predictions.argmax(axis=1)\n",
        "#labels_ = labels_> 0.5\n",
        "labels_"
      ],
      "execution_count": 0,
      "outputs": []
    },
    {
      "metadata": {
        "id": "9yvAGLkGSyj4",
        "colab_type": "code",
        "colab": {}
      },
      "cell_type": "code",
      "source": [
        "a = pd.concat([pd.DataFrame(test_x_names), pd.DataFrame(predictions)], axis =1).rename(columns={0:'is_attributed'})        "
      ],
      "execution_count": 0,
      "outputs": []
    },
    {
      "metadata": {
        "id": "s0_dDxe0Syj5",
        "colab_type": "code",
        "colab": {}
      },
      "cell_type": "code",
      "source": [
        "a.to_csv('First.csv', header = True, index = False)"
      ],
      "execution_count": 0,
      "outputs": []
    },
    {
      "metadata": {
        "id": "5zshNEW7Syj7",
        "colab_type": "code",
        "colab": {}
      },
      "cell_type": "code",
      "source": [
        "a.to_csv('primera.csv', header = True, index = False)"
      ],
      "execution_count": 0,
      "outputs": []
    },
    {
      "metadata": {
        "id": "TQQGt4wxSyj8",
        "colab_type": "code",
        "colab": {}
      },
      "cell_type": "code",
      "source": [
        "predictions1 = predictions"
      ],
      "execution_count": 0,
      "outputs": []
    },
    {
      "metadata": {
        "id": "1AUnXbMHSyj-",
        "colab_type": "code",
        "colab": {}
      },
      "cell_type": "code",
      "source": [
        ""
      ],
      "execution_count": 0,
      "outputs": []
    },
    {
      "metadata": {
        "id": "LlWmru2v-r0f",
        "colab_type": "text"
      },
      "cell_type": "markdown",
      "source": [
        ""
      ]
    }
  ]
}