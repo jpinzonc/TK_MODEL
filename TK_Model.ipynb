{
  "nbformat": 4,
  "nbformat_minor": 0,
  "metadata": {
    "colab": {
      "name": "TK_Model.ipynb",
      "version": "0.3.2",
      "provenance": []
    },
    "kernelspec": {
      "name": "python3",
      "display_name": "Python 3"
    },
    "accelerator": "GPU"
  },
  "cells": [
    {
      "metadata": {
        "id": "XOHbFN0qfL8U",
        "colab_type": "code",
        "outputId": "ca21d05c-fd45-45d6-ece1-8d8b7ddcb82d",
        "colab": {
          "base_uri": "https://localhost:8080/",
          "height": 292
        }
      },
      "cell_type": "code",
      "source": [
        "######################################## ERASE THE KEY EVERYTIME\n",
        "!pip install kaggle\n",
        "api_token = {\"username\":\"jpinzon\",\"key\":\"KEY_HERE\"}\n",
        "import json\n",
        "import zipfile\n",
        "import os\n",
        "!mkdir ~/.kaggle\n",
        "#!cp /content/.kaggle/kaggle.json ~/.kaggle/kaggle.json\n",
        "with open('/root/.kaggle/kaggle.json', 'w') as file:\n",
        "    json.dump(api_token, file)\n",
        "!chmod 600 /root/.kaggle/kaggle.json"
      ],
      "execution_count": 3,
      "outputs": [
        {
          "output_type": "stream",
          "text": [
            "Requirement already satisfied: kaggle in /usr/local/lib/python3.6/dist-packages (1.5.1.1)\n",
            "Requirement already satisfied: urllib3<1.23.0,>=1.15 in /usr/local/lib/python3.6/dist-packages (from kaggle) (1.22)\n",
            "Requirement already satisfied: six>=1.10 in /usr/local/lib/python3.6/dist-packages (from kaggle) (1.11.0)\n",
            "Requirement already satisfied: certifi in /usr/local/lib/python3.6/dist-packages (from kaggle) (2018.11.29)\n",
            "Requirement already satisfied: python-dateutil in /usr/local/lib/python3.6/dist-packages (from kaggle) (2.5.3)\n",
            "Requirement already satisfied: requests in /usr/local/lib/python3.6/dist-packages (from kaggle) (2.18.4)\n",
            "Requirement already satisfied: tqdm in /usr/local/lib/python3.6/dist-packages (from kaggle) (4.28.1)\n",
            "Requirement already satisfied: python-slugify in /usr/local/lib/python3.6/dist-packages (from kaggle) (2.0.1)\n",
            "Requirement already satisfied: chardet<3.1.0,>=3.0.2 in /usr/local/lib/python3.6/dist-packages (from requests->kaggle) (3.0.4)\n",
            "Requirement already satisfied: idna<2.7,>=2.5 in /usr/local/lib/python3.6/dist-packages (from requests->kaggle) (2.6)\n",
            "Requirement already satisfied: Unidecode>=0.04.16 in /usr/local/lib/python3.6/dist-packages (from python-slugify->kaggle) (1.0.23)\n",
            "Warning: Your Kaggle API key is readable by other users on this system! To fix this, you can run 'chmod 600 /root/.kaggle/kaggle.json'\n",
            "Downloading happy-house-dataset.zip to /content\n",
            " 67% 5.00M/7.49M [00:00<00:00, 17.2MB/s]\n",
            "100% 7.49M/7.49M [00:00<00:00, 21.5MB/s]\n"
          ],
          "name": "stdout"
        }
      ]
    },
    {
      "metadata": {
        "id": "e5WvnKUUSygo",
        "colab_type": "code",
        "outputId": "8c570b84-c141-414f-b6df-51387c963be4",
        "colab": {
          "base_uri": "https://localhost:8080/",
          "height": 34
        }
      },
      "cell_type": "code",
      "source": [
        "import os\n",
        "#import pandas as pd\n",
        "import pandas as pd\n",
        "import numpy as np\n",
        "import datetime as dt\n",
        "\n",
        "from sklearn.model_selection import train_test_split,  cross_val_score, GridSearchCV\n",
        "from sklearn.preprocessing import StandardScaler, LabelEncoder\n",
        "from sklearn.externals import joblib\n",
        "\n",
        "from keras.models import Sequential\n",
        "from keras.layers import Dense, Activation, Dropout\n",
        "from keras.wrappers.scikit_learn import KerasClassifier # keras wrapper for sklearn\n",
        "\n",
        "import json\n",
        "import zipfile\n"
      ],
      "execution_count": 4,
      "outputs": [
        {
          "output_type": "stream",
          "text": [
            "Using TensorFlow backend.\n"
          ],
          "name": "stderr"
        }
      ]
    },
    {
      "metadata": {
        "id": "uOi_eh_dseAN",
        "colab_type": "code",
        "colab": {}
      },
      "cell_type": "code",
      "source": [
        "!chmod 600 ~/.kaggle/kaggle.json"
      ],
      "execution_count": 0,
      "outputs": []
    },
    {
      "metadata": {
        "id": "jBZWJBryhu4J",
        "colab_type": "code",
        "outputId": "26f57df6-75bc-42b9-bc33-15e684915deb",
        "colab": {
          "base_uri": "https://localhost:8080/",
          "height": 34
        }
      },
      "cell_type": "code",
      "source": [
        "if not os.path.exists(\"/TK_Model\"):\n",
        "    os.makedirs(\"/TK_Model\")\n",
        "os.chdir('/TK_Model')\n",
        "os.listdir('.')"
      ],
      "execution_count": 6,
      "outputs": [
        {
          "output_type": "execute_result",
          "data": {
            "text/plain": [
              "[]"
            ]
          },
          "metadata": {
            "tags": []
          },
          "execution_count": 6
        }
      ]
    },
    {
      "metadata": {
        "id": "3KiiO88SgjT6",
        "colab_type": "code",
        "outputId": "313bb526-c8a3-428a-dd6e-21b13d26051a",
        "colab": {
          "base_uri": "https://localhost:8080/",
          "height": 272
        }
      },
      "cell_type": "code",
      "source": [
        "!kaggle competitions download  talkingdata-adtracking-fraud-detection"
      ],
      "execution_count": 7,
      "outputs": [
        {
          "output_type": "stream",
          "text": [
            "Downloading train.csv.zip to /TK_Model\n",
            " 99% 1.20G/1.21G [00:17<00:00, 54.0MB/s]\n",
            "100% 1.21G/1.21G [00:17<00:00, 75.9MB/s]\n",
            "Downloading train_sample.csv.zip to /TK_Model\n",
            "  0% 0.00/1.08M [00:00<?, ?B/s]\n",
            "100% 1.08M/1.08M [00:00<00:00, 152MB/s]\n",
            "Downloading test.csv.zip to /TK_Model\n",
            " 97% 160M/165M [00:02<00:00, 60.1MB/s]\n",
            "100% 165M/165M [00:02<00:00, 71.5MB/s]\n",
            "Downloading sample_submission.csv.zip to /TK_Model\n",
            " 83% 33.0M/39.8M [00:00<00:00, 26.8MB/s]\n",
            "100% 39.8M/39.8M [00:00<00:00, 62.7MB/s]\n",
            "Downloading test_supplement.csv.zip to /TK_Model\n",
            " 99% 497M/504M [00:07<00:00, 78.8MB/s]\n",
            "100% 504M/504M [00:07<00:00, 73.8MB/s]\n"
          ],
          "name": "stdout"
        }
      ]
    },
    {
      "metadata": {
        "id": "L4IXBPo3gFXf",
        "colab_type": "code",
        "outputId": "9edf0841-bd03-4dcc-c96c-498ea7f170b6",
        "colab": {
          "base_uri": "https://localhost:8080/",
          "height": 34
        }
      },
      "cell_type": "code",
      "source": [
        "zipfile.ZipFile('train_sample.csv.zip').extractall('train_sample.csv')\n",
        "os.listdir('train_sample.csv/mnt/ssd/kaggle-talkingdata2/competition_files/')"
      ],
      "execution_count": 8,
      "outputs": [
        {
          "output_type": "execute_result",
          "data": {
            "text/plain": [
              "['train_sample.csv']"
            ]
          },
          "metadata": {
            "tags": []
          },
          "execution_count": 8
        }
      ]
    },
    {
      "metadata": {
        "id": "19DJNzxsSygx",
        "colab_type": "code",
        "colab": {}
      },
      "cell_type": "code",
      "source": [
        "data_s = pd.read_csv('train_sample.csv/mnt/ssd/kaggle-talkingdata2/competition_files/train_sample.csv', engine='python')\n",
        "#.fillna('')"
      ],
      "execution_count": 0,
      "outputs": []
    },
    {
      "metadata": {
        "id": "SngpQ_XOSyg1",
        "colab_type": "code",
        "outputId": "e411163e-93aa-4ab9-d956-2db0a46d3a19",
        "colab": {
          "base_uri": "https://localhost:8080/",
          "height": 204
        }
      },
      "cell_type": "code",
      "source": [
        "data_s.sort_values(by='attributed_time', ascending = False).head()"
      ],
      "execution_count": 10,
      "outputs": [
        {
          "output_type": "execute_result",
          "data": {
            "text/html": [
              "<div>\n",
              "<style scoped>\n",
              "    .dataframe tbody tr th:only-of-type {\n",
              "        vertical-align: middle;\n",
              "    }\n",
              "\n",
              "    .dataframe tbody tr th {\n",
              "        vertical-align: top;\n",
              "    }\n",
              "\n",
              "    .dataframe thead th {\n",
              "        text-align: right;\n",
              "    }\n",
              "</style>\n",
              "<table border=\"1\" class=\"dataframe\">\n",
              "  <thead>\n",
              "    <tr style=\"text-align: right;\">\n",
              "      <th></th>\n",
              "      <th>ip</th>\n",
              "      <th>app</th>\n",
              "      <th>device</th>\n",
              "      <th>os</th>\n",
              "      <th>channel</th>\n",
              "      <th>click_time</th>\n",
              "      <th>attributed_time</th>\n",
              "      <th>is_attributed</th>\n",
              "    </tr>\n",
              "  </thead>\n",
              "  <tbody>\n",
              "    <tr>\n",
              "      <th>28970</th>\n",
              "      <td>346097</td>\n",
              "      <td>19</td>\n",
              "      <td>16</td>\n",
              "      <td>0</td>\n",
              "      <td>213</td>\n",
              "      <td>2017-11-09 15:27:07</td>\n",
              "      <td>2017-11-09 15:28:15</td>\n",
              "      <td>1</td>\n",
              "    </tr>\n",
              "    <tr>\n",
              "      <th>5111</th>\n",
              "      <td>303875</td>\n",
              "      <td>71</td>\n",
              "      <td>1</td>\n",
              "      <td>19</td>\n",
              "      <td>3</td>\n",
              "      <td>2017-11-09 15:13:48</td>\n",
              "      <td>2017-11-09 15:17:13</td>\n",
              "      <td>1</td>\n",
              "    </tr>\n",
              "    <tr>\n",
              "      <th>93842</th>\n",
              "      <td>346361</td>\n",
              "      <td>115</td>\n",
              "      <td>1</td>\n",
              "      <td>22</td>\n",
              "      <td>203</td>\n",
              "      <td>2017-11-09 15:14:10</td>\n",
              "      <td>2017-11-09 15:15:34</td>\n",
              "      <td>1</td>\n",
              "    </tr>\n",
              "    <tr>\n",
              "      <th>39247</th>\n",
              "      <td>305220</td>\n",
              "      <td>19</td>\n",
              "      <td>581</td>\n",
              "      <td>24</td>\n",
              "      <td>213</td>\n",
              "      <td>2017-11-09 15:03:23</td>\n",
              "      <td>2017-11-09 15:05:43</td>\n",
              "      <td>1</td>\n",
              "    </tr>\n",
              "    <tr>\n",
              "      <th>27035</th>\n",
              "      <td>75443</td>\n",
              "      <td>9</td>\n",
              "      <td>1</td>\n",
              "      <td>19</td>\n",
              "      <td>466</td>\n",
              "      <td>2017-11-09 14:12:55</td>\n",
              "      <td>2017-11-09 14:53:22</td>\n",
              "      <td>1</td>\n",
              "    </tr>\n",
              "  </tbody>\n",
              "</table>\n",
              "</div>"
            ],
            "text/plain": [
              "           ip  app  device  os  channel           click_time  \\\n",
              "28970  346097   19      16   0      213  2017-11-09 15:27:07   \n",
              "5111   303875   71       1  19        3  2017-11-09 15:13:48   \n",
              "93842  346361  115       1  22      203  2017-11-09 15:14:10   \n",
              "39247  305220   19     581  24      213  2017-11-09 15:03:23   \n",
              "27035   75443    9       1  19      466  2017-11-09 14:12:55   \n",
              "\n",
              "           attributed_time  is_attributed  \n",
              "28970  2017-11-09 15:28:15              1  \n",
              "5111   2017-11-09 15:17:13              1  \n",
              "93842  2017-11-09 15:15:34              1  \n",
              "39247  2017-11-09 15:05:43              1  \n",
              "27035  2017-11-09 14:53:22              1  "
            ]
          },
          "metadata": {
            "tags": []
          },
          "execution_count": 10
        }
      ]
    },
    {
      "metadata": {
        "id": "WP9YPDr0SyhA",
        "colab_type": "code",
        "outputId": "9ee992a1-ab01-4d94-a4c5-9c07ab69eb99",
        "colab": {
          "base_uri": "https://localhost:8080/",
          "height": 34
        }
      },
      "cell_type": "code",
      "source": [
        "data_s.shape"
      ],
      "execution_count": 11,
      "outputs": [
        {
          "output_type": "execute_result",
          "data": {
            "text/plain": [
              "(100000, 8)"
            ]
          },
          "metadata": {
            "tags": []
          },
          "execution_count": 11
        }
      ]
    },
    {
      "metadata": {
        "id": "5d-_ouC6SyhE",
        "colab_type": "code",
        "outputId": "fc81182b-9f5f-4b30-f86d-82b2f96f139f",
        "colab": {
          "base_uri": "https://localhost:8080/",
          "height": 153
        }
      },
      "cell_type": "code",
      "source": [
        "# Checking for NANs\n",
        "for col in data_s.columns:\n",
        "    print('{} contains {:,} NANs'.format(col,len(data_s[data_s[col].isnull()])))"
      ],
      "execution_count": 12,
      "outputs": [
        {
          "output_type": "stream",
          "text": [
            "ip contains 0 NANs\n",
            "app contains 0 NANs\n",
            "device contains 0 NANs\n",
            "os contains 0 NANs\n",
            "channel contains 0 NANs\n",
            "click_time contains 0 NANs\n",
            "attributed_time contains 99,773 NANs\n",
            "is_attributed contains 0 NANs\n"
          ],
          "name": "stdout"
        }
      ]
    },
    {
      "metadata": {
        "id": "zA2jDVi5SyhJ",
        "colab_type": "text"
      },
      "cell_type": "markdown",
      "source": [
        "Only attributed time has NANs, but I am not using this column"
      ]
    },
    {
      "metadata": {
        "id": "mwZY8O59SyhK",
        "colab_type": "code",
        "colab": {}
      },
      "cell_type": "code",
      "source": [
        "# Removing attributed_time\n",
        "data_s = data_s.drop('attributed_time', axis = 1)"
      ],
      "execution_count": 0,
      "outputs": []
    },
    {
      "metadata": {
        "id": "ezHIj2z_SyhN",
        "colab_type": "code",
        "outputId": "ccf5883d-a6cb-4005-c273-5065290f6b23",
        "colab": {
          "base_uri": "https://localhost:8080/",
          "height": 204
        }
      },
      "cell_type": "code",
      "source": [
        "data_s.head()"
      ],
      "execution_count": 0,
      "outputs": [
        {
          "output_type": "execute_result",
          "data": {
            "text/html": [
              "<div>\n",
              "<style scoped>\n",
              "    .dataframe tbody tr th:only-of-type {\n",
              "        vertical-align: middle;\n",
              "    }\n",
              "\n",
              "    .dataframe tbody tr th {\n",
              "        vertical-align: top;\n",
              "    }\n",
              "\n",
              "    .dataframe thead th {\n",
              "        text-align: right;\n",
              "    }\n",
              "</style>\n",
              "<table border=\"1\" class=\"dataframe\">\n",
              "  <thead>\n",
              "    <tr style=\"text-align: right;\">\n",
              "      <th></th>\n",
              "      <th>ip</th>\n",
              "      <th>app</th>\n",
              "      <th>device</th>\n",
              "      <th>os</th>\n",
              "      <th>channel</th>\n",
              "      <th>click_time</th>\n",
              "      <th>is_attributed</th>\n",
              "    </tr>\n",
              "  </thead>\n",
              "  <tbody>\n",
              "    <tr>\n",
              "      <th>0</th>\n",
              "      <td>87540</td>\n",
              "      <td>12</td>\n",
              "      <td>1</td>\n",
              "      <td>13</td>\n",
              "      <td>497</td>\n",
              "      <td>2017-11-07 09:30:38</td>\n",
              "      <td>0</td>\n",
              "    </tr>\n",
              "    <tr>\n",
              "      <th>1</th>\n",
              "      <td>105560</td>\n",
              "      <td>25</td>\n",
              "      <td>1</td>\n",
              "      <td>17</td>\n",
              "      <td>259</td>\n",
              "      <td>2017-11-07 13:40:27</td>\n",
              "      <td>0</td>\n",
              "    </tr>\n",
              "    <tr>\n",
              "      <th>2</th>\n",
              "      <td>101424</td>\n",
              "      <td>12</td>\n",
              "      <td>1</td>\n",
              "      <td>19</td>\n",
              "      <td>212</td>\n",
              "      <td>2017-11-07 18:05:24</td>\n",
              "      <td>0</td>\n",
              "    </tr>\n",
              "    <tr>\n",
              "      <th>3</th>\n",
              "      <td>94584</td>\n",
              "      <td>13</td>\n",
              "      <td>1</td>\n",
              "      <td>13</td>\n",
              "      <td>477</td>\n",
              "      <td>2017-11-07 04:58:08</td>\n",
              "      <td>0</td>\n",
              "    </tr>\n",
              "    <tr>\n",
              "      <th>4</th>\n",
              "      <td>68413</td>\n",
              "      <td>12</td>\n",
              "      <td>1</td>\n",
              "      <td>1</td>\n",
              "      <td>178</td>\n",
              "      <td>2017-11-09 09:00:09</td>\n",
              "      <td>0</td>\n",
              "    </tr>\n",
              "  </tbody>\n",
              "</table>\n",
              "</div>"
            ],
            "text/plain": [
              "       ip  app  device  os  channel           click_time  is_attributed\n",
              "0   87540   12       1  13      497  2017-11-07 09:30:38              0\n",
              "1  105560   25       1  17      259  2017-11-07 13:40:27              0\n",
              "2  101424   12       1  19      212  2017-11-07 18:05:24              0\n",
              "3   94584   13       1  13      477  2017-11-07 04:58:08              0\n",
              "4   68413   12       1   1      178  2017-11-09 09:00:09              0"
            ]
          },
          "metadata": {
            "tags": []
          },
          "execution_count": 19
        }
      ]
    },
    {
      "metadata": {
        "id": "0BHAbPTzSyhR",
        "colab_type": "code",
        "colab": {}
      },
      "cell_type": "code",
      "source": [
        "# Convert click_time to datetime format\n",
        "data_s.click_time = pd.to_datetime(data_s.click_time, errors = 'ignore')"
      ],
      "execution_count": 0,
      "outputs": []
    },
    {
      "metadata": {
        "id": "w-wLWh_ZSyhT",
        "colab_type": "code",
        "colab": {}
      },
      "cell_type": "code",
      "source": [
        "# Determine and coding time of the day the site was accessed\n",
        "# 1 = Night, 2 = Morning, 3 = Afternoon, 4 = Evening\n",
        "data_s = data_s.assign(session = pd.cut(data_s.click_time.dt.hour,[-1,6,12,18,24],labels=[1, 2, 3,4 ]))\n",
        "#data_s.session = data_s.session.astype(np.int64)\n",
        "#data_s = data_s.drop('click_time', 1)"
      ],
      "execution_count": 0,
      "outputs": []
    },
    {
      "metadata": {
        "id": "bpd8ro8oSyhY",
        "colab_type": "code",
        "outputId": "97871d0c-44cc-4910-a370-d4429ea5c613",
        "colab": {
          "base_uri": "https://localhost:8080/",
          "height": 204
        }
      },
      "cell_type": "code",
      "source": [
        "data_s.head()"
      ],
      "execution_count": 0,
      "outputs": [
        {
          "output_type": "execute_result",
          "data": {
            "text/html": [
              "<div>\n",
              "<style scoped>\n",
              "    .dataframe tbody tr th:only-of-type {\n",
              "        vertical-align: middle;\n",
              "    }\n",
              "\n",
              "    .dataframe tbody tr th {\n",
              "        vertical-align: top;\n",
              "    }\n",
              "\n",
              "    .dataframe thead th {\n",
              "        text-align: right;\n",
              "    }\n",
              "</style>\n",
              "<table border=\"1\" class=\"dataframe\">\n",
              "  <thead>\n",
              "    <tr style=\"text-align: right;\">\n",
              "      <th></th>\n",
              "      <th>ip</th>\n",
              "      <th>app</th>\n",
              "      <th>device</th>\n",
              "      <th>os</th>\n",
              "      <th>channel</th>\n",
              "      <th>click_time</th>\n",
              "      <th>is_attributed</th>\n",
              "      <th>session</th>\n",
              "    </tr>\n",
              "  </thead>\n",
              "  <tbody>\n",
              "    <tr>\n",
              "      <th>0</th>\n",
              "      <td>87540</td>\n",
              "      <td>12</td>\n",
              "      <td>1</td>\n",
              "      <td>13</td>\n",
              "      <td>497</td>\n",
              "      <td>2017-11-07 09:30:38</td>\n",
              "      <td>0</td>\n",
              "      <td>2</td>\n",
              "    </tr>\n",
              "    <tr>\n",
              "      <th>1</th>\n",
              "      <td>105560</td>\n",
              "      <td>25</td>\n",
              "      <td>1</td>\n",
              "      <td>17</td>\n",
              "      <td>259</td>\n",
              "      <td>2017-11-07 13:40:27</td>\n",
              "      <td>0</td>\n",
              "      <td>3</td>\n",
              "    </tr>\n",
              "    <tr>\n",
              "      <th>2</th>\n",
              "      <td>101424</td>\n",
              "      <td>12</td>\n",
              "      <td>1</td>\n",
              "      <td>19</td>\n",
              "      <td>212</td>\n",
              "      <td>2017-11-07 18:05:24</td>\n",
              "      <td>0</td>\n",
              "      <td>3</td>\n",
              "    </tr>\n",
              "    <tr>\n",
              "      <th>3</th>\n",
              "      <td>94584</td>\n",
              "      <td>13</td>\n",
              "      <td>1</td>\n",
              "      <td>13</td>\n",
              "      <td>477</td>\n",
              "      <td>2017-11-07 04:58:08</td>\n",
              "      <td>0</td>\n",
              "      <td>1</td>\n",
              "    </tr>\n",
              "    <tr>\n",
              "      <th>4</th>\n",
              "      <td>68413</td>\n",
              "      <td>12</td>\n",
              "      <td>1</td>\n",
              "      <td>1</td>\n",
              "      <td>178</td>\n",
              "      <td>2017-11-09 09:00:09</td>\n",
              "      <td>0</td>\n",
              "      <td>2</td>\n",
              "    </tr>\n",
              "  </tbody>\n",
              "</table>\n",
              "</div>"
            ],
            "text/plain": [
              "       ip  app  device  os  channel          click_time  is_attributed session\n",
              "0   87540   12       1  13      497 2017-11-07 09:30:38              0       2\n",
              "1  105560   25       1  17      259 2017-11-07 13:40:27              0       3\n",
              "2  101424   12       1  19      212 2017-11-07 18:05:24              0       3\n",
              "3   94584   13       1  13      477 2017-11-07 04:58:08              0       1\n",
              "4   68413   12       1   1      178 2017-11-09 09:00:09              0       2"
            ]
          },
          "metadata": {
            "tags": []
          },
          "execution_count": 22
        }
      ]
    },
    {
      "metadata": {
        "id": "9Z6lmPSzSyhh",
        "colab_type": "code",
        "colab": {}
      },
      "cell_type": "code",
      "source": [
        "data_s = data_s[['ip', 'app', 'device', 'os', 'channel', 'session','is_attributed']]"
      ],
      "execution_count": 0,
      "outputs": []
    },
    {
      "metadata": {
        "id": "ik2cQ4MDSyhn",
        "colab_type": "code",
        "colab": {}
      },
      "cell_type": "code",
      "source": [
        "from collections import defaultdict\n",
        "d = defaultdict(LabelEncoder)\n",
        "# Encoding the variable\n",
        "data_e = data_s.apply(lambda x: d[x.name].fit_transform(x))\n",
        "\n",
        "# Inverse the encoded\n",
        "#fit.apply(lambda x: d[x.name].inverse_transform(x))\n",
        "# Using the dictionary to label future data\n",
        "#data_s.apply(lambda x: d[x.name].transform(x))"
      ],
      "execution_count": 0,
      "outputs": []
    },
    {
      "metadata": {
        "id": "jwdASqz3Syhr",
        "colab_type": "code",
        "outputId": "d03098eb-2180-4636-beb5-239aa313cbd4",
        "colab": {
          "base_uri": "https://localhost:8080/",
          "height": 204
        }
      },
      "cell_type": "code",
      "source": [
        "data_e.head()"
      ],
      "execution_count": 0,
      "outputs": [
        {
          "output_type": "execute_result",
          "data": {
            "text/html": [
              "<div>\n",
              "<style scoped>\n",
              "    .dataframe tbody tr th:only-of-type {\n",
              "        vertical-align: middle;\n",
              "    }\n",
              "\n",
              "    .dataframe tbody tr th {\n",
              "        vertical-align: top;\n",
              "    }\n",
              "\n",
              "    .dataframe thead th {\n",
              "        text-align: right;\n",
              "    }\n",
              "</style>\n",
              "<table border=\"1\" class=\"dataframe\">\n",
              "  <thead>\n",
              "    <tr style=\"text-align: right;\">\n",
              "      <th></th>\n",
              "      <th>ip</th>\n",
              "      <th>app</th>\n",
              "      <th>device</th>\n",
              "      <th>os</th>\n",
              "      <th>channel</th>\n",
              "      <th>session</th>\n",
              "      <th>is_attributed</th>\n",
              "    </tr>\n",
              "  </thead>\n",
              "  <tbody>\n",
              "    <tr>\n",
              "      <th>0</th>\n",
              "      <td>15220</td>\n",
              "      <td>11</td>\n",
              "      <td>1</td>\n",
              "      <td>13</td>\n",
              "      <td>159</td>\n",
              "      <td>1</td>\n",
              "      <td>0</td>\n",
              "    </tr>\n",
              "    <tr>\n",
              "      <th>1</th>\n",
              "      <td>18448</td>\n",
              "      <td>24</td>\n",
              "      <td>1</td>\n",
              "      <td>17</td>\n",
              "      <td>67</td>\n",
              "      <td>2</td>\n",
              "      <td>0</td>\n",
              "    </tr>\n",
              "    <tr>\n",
              "      <th>2</th>\n",
              "      <td>17663</td>\n",
              "      <td>11</td>\n",
              "      <td>1</td>\n",
              "      <td>19</td>\n",
              "      <td>52</td>\n",
              "      <td>2</td>\n",
              "      <td>0</td>\n",
              "    </tr>\n",
              "    <tr>\n",
              "      <th>3</th>\n",
              "      <td>16496</td>\n",
              "      <td>12</td>\n",
              "      <td>1</td>\n",
              "      <td>13</td>\n",
              "      <td>146</td>\n",
              "      <td>0</td>\n",
              "      <td>0</td>\n",
              "    </tr>\n",
              "    <tr>\n",
              "      <th>4</th>\n",
              "      <td>11852</td>\n",
              "      <td>11</td>\n",
              "      <td>1</td>\n",
              "      <td>1</td>\n",
              "      <td>45</td>\n",
              "      <td>1</td>\n",
              "      <td>0</td>\n",
              "    </tr>\n",
              "  </tbody>\n",
              "</table>\n",
              "</div>"
            ],
            "text/plain": [
              "      ip  app  device  os  channel  session  is_attributed\n",
              "0  15220   11       1  13      159        1              0\n",
              "1  18448   24       1  17       67        2              0\n",
              "2  17663   11       1  19       52        2              0\n",
              "3  16496   12       1  13      146        0              0\n",
              "4  11852   11       1   1       45        1              0"
            ]
          },
          "metadata": {
            "tags": []
          },
          "execution_count": 29
        }
      ]
    },
    {
      "metadata": {
        "id": "y7ZENfu2Syhu",
        "colab_type": "code",
        "colab": {}
      },
      "cell_type": "code",
      "source": [
        "data_s = data_s.reset_index(drop = False).rename(columns={'index':'click_id'})"
      ],
      "execution_count": 0,
      "outputs": []
    },
    {
      "metadata": {
        "id": "X0HjC3EASyhw",
        "colab_type": "code",
        "outputId": "399744ea-deee-4b53-bb48-9ecec4247b5f",
        "colab": {
          "base_uri": "https://localhost:8080/",
          "height": 34
        }
      },
      "cell_type": "code",
      "source": [
        "data_s.is_attributed.unique()"
      ],
      "execution_count": 0,
      "outputs": [
        {
          "output_type": "execute_result",
          "data": {
            "text/plain": [
              "array([0, 1])"
            ]
          },
          "metadata": {
            "tags": []
          },
          "execution_count": 31
        }
      ]
    },
    {
      "metadata": {
        "id": "BVogR9_ESyh2",
        "colab_type": "code",
        "outputId": "7963d05c-e3d8-4b59-945a-a5b30fc06bee",
        "colab": {
          "base_uri": "https://localhost:8080/",
          "height": 238
        }
      },
      "cell_type": "code",
      "source": [
        "data_s.info()"
      ],
      "execution_count": 0,
      "outputs": [
        {
          "output_type": "stream",
          "text": [
            "<class 'pandas.core.frame.DataFrame'>\n",
            "RangeIndex: 100000 entries, 0 to 99999\n",
            "Data columns (total 8 columns):\n",
            "click_id         100000 non-null int64\n",
            "ip               100000 non-null int64\n",
            "app              100000 non-null int64\n",
            "device           100000 non-null int64\n",
            "os               100000 non-null int64\n",
            "channel          100000 non-null int64\n",
            "session          100000 non-null category\n",
            "is_attributed    100000 non-null int64\n",
            "dtypes: category(1), int64(7)\n",
            "memory usage: 5.4 MB\n"
          ],
          "name": "stdout"
        }
      ]
    },
    {
      "metadata": {
        "id": "fuAhjC_5tpNs",
        "colab_type": "code",
        "colab": {}
      },
      "cell_type": "code",
      "source": [
        "data_s.loc[:,'session'] = data_s.session.astype(np.int)"
      ],
      "execution_count": 0,
      "outputs": []
    },
    {
      "metadata": {
        "id": "RqYe_CFhSyiB",
        "colab_type": "code",
        "outputId": "4052fdd9-d10f-433f-d68f-5ccd1d5b24d8",
        "colab": {
          "base_uri": "https://localhost:8080/",
          "height": 204
        }
      },
      "cell_type": "code",
      "source": [
        "data_s.sort_values(by='ip').head()"
      ],
      "execution_count": 0,
      "outputs": [
        {
          "output_type": "execute_result",
          "data": {
            "text/html": [
              "<div>\n",
              "<style scoped>\n",
              "    .dataframe tbody tr th:only-of-type {\n",
              "        vertical-align: middle;\n",
              "    }\n",
              "\n",
              "    .dataframe tbody tr th {\n",
              "        vertical-align: top;\n",
              "    }\n",
              "\n",
              "    .dataframe thead th {\n",
              "        text-align: right;\n",
              "    }\n",
              "</style>\n",
              "<table border=\"1\" class=\"dataframe\">\n",
              "  <thead>\n",
              "    <tr style=\"text-align: right;\">\n",
              "      <th></th>\n",
              "      <th>click_id</th>\n",
              "      <th>ip</th>\n",
              "      <th>app</th>\n",
              "      <th>device</th>\n",
              "      <th>os</th>\n",
              "      <th>channel</th>\n",
              "      <th>session</th>\n",
              "      <th>is_attributed</th>\n",
              "    </tr>\n",
              "  </thead>\n",
              "  <tbody>\n",
              "    <tr>\n",
              "      <th>4249</th>\n",
              "      <td>4249</td>\n",
              "      <td>9</td>\n",
              "      <td>9</td>\n",
              "      <td>1</td>\n",
              "      <td>13</td>\n",
              "      <td>244</td>\n",
              "      <td>3</td>\n",
              "      <td>0</td>\n",
              "    </tr>\n",
              "    <tr>\n",
              "      <th>51193</th>\n",
              "      <td>51193</td>\n",
              "      <td>10</td>\n",
              "      <td>18</td>\n",
              "      <td>1</td>\n",
              "      <td>13</td>\n",
              "      <td>107</td>\n",
              "      <td>2</td>\n",
              "      <td>0</td>\n",
              "    </tr>\n",
              "    <tr>\n",
              "      <th>18992</th>\n",
              "      <td>18992</td>\n",
              "      <td>10</td>\n",
              "      <td>11</td>\n",
              "      <td>1</td>\n",
              "      <td>22</td>\n",
              "      <td>319</td>\n",
              "      <td>1</td>\n",
              "      <td>0</td>\n",
              "    </tr>\n",
              "    <tr>\n",
              "      <th>25399</th>\n",
              "      <td>25399</td>\n",
              "      <td>10</td>\n",
              "      <td>12</td>\n",
              "      <td>1</td>\n",
              "      <td>19</td>\n",
              "      <td>140</td>\n",
              "      <td>2</td>\n",
              "      <td>0</td>\n",
              "    </tr>\n",
              "    <tr>\n",
              "      <th>10686</th>\n",
              "      <td>10686</td>\n",
              "      <td>19</td>\n",
              "      <td>14</td>\n",
              "      <td>1</td>\n",
              "      <td>16</td>\n",
              "      <td>379</td>\n",
              "      <td>2</td>\n",
              "      <td>0</td>\n",
              "    </tr>\n",
              "  </tbody>\n",
              "</table>\n",
              "</div>"
            ],
            "text/plain": [
              "       click_id  ip  app  device  os  channel  session  is_attributed\n",
              "4249       4249   9    9       1  13      244        3              0\n",
              "51193     51193  10   18       1  13      107        2              0\n",
              "18992     18992  10   11       1  22      319        1              0\n",
              "25399     25399  10   12       1  19      140        2              0\n",
              "10686     10686  19   14       1  16      379        2              0"
            ]
          },
          "metadata": {
            "tags": []
          },
          "execution_count": 35
        }
      ]
    },
    {
      "metadata": {
        "id": "Hz5BhjH8SyiE",
        "colab_type": "text"
      },
      "cell_type": "markdown",
      "source": [
        "# Aritificial Neural Network \n",
        "\n",
        "### Split data into target and features"
      ]
    },
    {
      "metadata": {
        "id": "9afhB6ohSyiF",
        "colab_type": "code",
        "outputId": "bbe35fdf-e983-4fbb-f2d7-7d167f2560df",
        "colab": {
          "base_uri": "https://localhost:8080/",
          "height": 34
        }
      },
      "cell_type": "code",
      "source": [
        "target = data_s.is_attributed.values\n",
        "features = data_s.drop('is_attributed', 1).values\n",
        "print ('Data original %d, target: %d, features: %d' % (data_s.shape[0], target.shape[0], features.shape[0]))"
      ],
      "execution_count": 0,
      "outputs": [
        {
          "output_type": "stream",
          "text": [
            "Data original 100000, target: 100000, features: 100000\n"
          ],
          "name": "stdout"
        }
      ]
    },
    {
      "metadata": {
        "id": "Zv_-ovFESyiG",
        "colab_type": "text"
      },
      "cell_type": "markdown",
      "source": [
        "### Split features into training, validation, and testing sets"
      ]
    },
    {
      "metadata": {
        "id": "V-94KZkOSyiI",
        "colab_type": "code",
        "colab": {}
      },
      "cell_type": "code",
      "source": [
        "X_train, X_test, y_train, y_test  = train_test_split(features, target, test_size= 0.25, random_state=1)\n",
        "X_train, X_val, y_train, y_val    = train_test_split(X_train, y_train, test_size= 0.20, random_state=1)\n",
        "\n",
        "X_train_names = X_train[:,0]\n",
        "X_train = X_train[:,1:7]\n",
        "\n",
        "X_test_names = X_test[:,0]\n",
        "X_test = X_test[:,1:7]\n",
        "                  \n",
        "X_val_names = X_val[:,0]\n",
        "X_val = X_val[:,1:7]"
      ],
      "execution_count": 0,
      "outputs": []
    },
    {
      "metadata": {
        "id": "MK-TiTTGSyiL",
        "colab_type": "text"
      },
      "cell_type": "markdown",
      "source": [
        "### Standarizing the features"
      ]
    },
    {
      "metadata": {
        "id": "6M1hPjIgSyiM",
        "colab_type": "code",
        "outputId": "1bb7b2c7-9fd7-4a0c-9cfc-12e66f06ace0",
        "colab": {
          "base_uri": "https://localhost:8080/",
          "height": 173
        }
      },
      "cell_type": "code",
      "source": [
        "sc = StandardScaler()\n",
        "X_train = sc.fit_transform(X_train)\n",
        "X_val   = sc.transform(X_val)\n",
        "X_test  = sc.transform(X_test)"
      ],
      "execution_count": 0,
      "outputs": [
        {
          "output_type": "stream",
          "text": [
            "/usr/local/lib/python3.6/dist-packages/sklearn/utils/validation.py:595: DataConversionWarning: Data with input dtype int64 was converted to float64 by StandardScaler.\n",
            "  warnings.warn(msg, DataConversionWarning)\n",
            "/usr/local/lib/python3.6/dist-packages/sklearn/utils/validation.py:595: DataConversionWarning: Data with input dtype int64 was converted to float64 by StandardScaler.\n",
            "  warnings.warn(msg, DataConversionWarning)\n",
            "/usr/local/lib/python3.6/dist-packages/sklearn/utils/validation.py:595: DataConversionWarning: Data with input dtype int64 was converted to float64 by StandardScaler.\n",
            "  warnings.warn(msg, DataConversionWarning)\n",
            "/usr/local/lib/python3.6/dist-packages/sklearn/utils/validation.py:595: DataConversionWarning: Data with input dtype int64 was converted to float64 by StandardScaler.\n",
            "  warnings.warn(msg, DataConversionWarning)\n"
          ],
          "name": "stderr"
        }
      ]
    },
    {
      "metadata": {
        "id": "uj8ny3k-SyiN",
        "colab_type": "code",
        "outputId": "d0e446c3-561d-43da-83d5-82ec3e65605f",
        "colab": {
          "base_uri": "https://localhost:8080/",
          "height": 238
        }
      },
      "cell_type": "code",
      "source": [
        "X_train"
      ],
      "execution_count": 0,
      "outputs": [
        {
          "output_type": "execute_result",
          "data": {
            "text/plain": [
              "array([[-1.04568937e+00, -6.12638678e-01, -7.93763116e-02,\n",
              "        -8.59872320e-02,  1.33581785e+00, -2.31288181e-02],\n",
              "       [ 5.00223830e-01, -6.12638678e-01, -7.93763116e-02,\n",
              "         1.69632802e-01,  8.60994279e-02, -1.05260143e+00],\n",
              "       [ 1.45368304e+00, -6.12638678e-01, -7.93763116e-02,\n",
              "         2.24408523e-01,  1.08124558e+00, -1.05260143e+00],\n",
              "       ...,\n",
              "       [-1.10247574e+00, -7.48701236e-01, -7.54766277e-02,\n",
              "        -1.77280101e-01, -1.04019002e+00, -2.31288181e-02],\n",
              "       [-9.47442656e-01, -3.57164216e-04, -7.93763116e-02,\n",
              "        -1.77280101e-01, -7.59011084e-02, -2.31288181e-02],\n",
              "       [ 3.85607429e-01,  2.03736674e-01, -7.93763116e-02,\n",
              "        -1.77280101e-01,  1.24324612e+00, -1.05260143e+00]])"
            ]
          },
          "metadata": {
            "tags": []
          },
          "execution_count": 39
        }
      ]
    },
    {
      "metadata": {
        "id": "FIwr_5soSyiQ",
        "colab_type": "text"
      },
      "cell_type": "markdown",
      "source": [
        "### Building the initial model "
      ]
    },
    {
      "metadata": {
        "id": "dLl-bPEGSyiQ",
        "colab_type": "code",
        "colab": {}
      },
      "cell_type": "code",
      "source": [
        "def classifier_model(activator, optimizer, initializer):\n",
        "    classifier = Sequential()\n",
        "    classifier.add(Dense(units = 10, kernel_initializer = initializer, activation = activator, input_dim = 6))\n",
        "    classifier.add(Dense(units = 10, kernel_initializer = initializer, activation = activator))\n",
        "    classifier.add(Dense(units = 1,  kernel_initializer = initializer, activation = 'sigmoid'))\n",
        "    classifier.compile(optimizer = optimizer, loss = 'binary_crossentropy', metrics = ['accuracy'])\n",
        "    return classifier"
      ],
      "execution_count": 0,
      "outputs": []
    },
    {
      "metadata": {
        "id": "YP9If3E5SyiT",
        "colab_type": "text"
      },
      "cell_type": "markdown",
      "source": [
        "### Fitting the model with the training set "
      ]
    },
    {
      "metadata": {
        "id": "SOu6SD_rSyiT",
        "colab_type": "code",
        "outputId": "1df0ff0b-c4ae-4656-d860-7ecadf8fb748",
        "colab": {
          "base_uri": "https://localhost:8080/",
          "height": 374
        }
      },
      "cell_type": "code",
      "source": [
        "activator   = 'relu'\n",
        "optimizer   = 'adam'\n",
        "initializer = 'uniform'\n",
        "classifier = classifier_model(activator, optimizer, initializer)\n",
        "classifier.fit(X_train, y_train, batch_size = 10, epochs = 10)"
      ],
      "execution_count": 0,
      "outputs": [
        {
          "output_type": "stream",
          "text": [
            "Epoch 1/10\n",
            "60000/60000 [==============================] - 29s 480us/step - loss: 0.0290 - acc: 0.9977\n",
            "Epoch 2/10\n",
            "60000/60000 [==============================] - 27s 447us/step - loss: 0.0128 - acc: 0.9978\n",
            "Epoch 3/10\n",
            "60000/60000 [==============================] - 27s 449us/step - loss: 0.0127 - acc: 0.9978\n",
            "Epoch 4/10\n",
            "60000/60000 [==============================] - 27s 449us/step - loss: 0.0126 - acc: 0.9978\n",
            "Epoch 5/10\n",
            "60000/60000 [==============================] - 27s 451us/step - loss: 0.0126 - acc: 0.9978\n",
            "Epoch 6/10\n",
            "60000/60000 [==============================] - 27s 450us/step - loss: 0.0125 - acc: 0.9978\n",
            "Epoch 7/10\n",
            "60000/60000 [==============================] - 27s 450us/step - loss: 0.0124 - acc: 0.9978\n",
            "Epoch 8/10\n",
            "60000/60000 [==============================] - 27s 448us/step - loss: 0.0125 - acc: 0.9978\n",
            "Epoch 9/10\n",
            "60000/60000 [==============================] - 27s 449us/step - loss: 0.0124 - acc: 0.9978\n",
            "Epoch 10/10\n",
            "60000/60000 [==============================] - 27s 446us/step - loss: 0.0124 - acc: 0.9978\n"
          ],
          "name": "stdout"
        },
        {
          "output_type": "execute_result",
          "data": {
            "text/plain": [
              "<keras.callbacks.History at 0x7f26c1ffb3c8>"
            ]
          },
          "metadata": {
            "tags": []
          },
          "execution_count": 42
        }
      ]
    },
    {
      "metadata": {
        "id": "UNZ_5eBwSyiY",
        "colab_type": "text"
      },
      "cell_type": "markdown",
      "source": [
        "### Crossvalidation on training set"
      ]
    },
    {
      "metadata": {
        "id": "OWW-jUegSyiZ",
        "colab_type": "code",
        "colab": {}
      },
      "cell_type": "code",
      "source": [
        "# Using relu - as raw model above - as activator\n",
        "activator   = 'relu'\n",
        "optimizer   = 'adam'\n",
        "initializer = 'uniform'\n",
        "cv = 10 \n",
        "classifier_cv = KerasClassifier(build_fn = classifier_model, \n",
        "                                activator = activator, \n",
        "                                optimizer = optimizer,\n",
        "                                initializer = initializer,\n",
        "                                batch_size = 10, \n",
        "                                epochs = 10, \n",
        "                                verbose = 0)\n",
        "accuracies = cross_val_score(estimator = classifier_cv, X = X_train, y = y_train, cv = cv)\n",
        "\n",
        "mean = accuracies.mean()\n",
        "variance = accuracies.std()"
      ],
      "execution_count": 0,
      "outputs": []
    },
    {
      "metadata": {
        "id": "EqsJv597Syic",
        "colab_type": "code",
        "outputId": "b8aa2c0b-3daf-48ca-da7d-d2c8aeb38257",
        "colab": {
          "base_uri": "https://localhost:8080/",
          "height": 34
        }
      },
      "cell_type": "code",
      "source": [
        "# Mean cv accuracy \n",
        "print('Mean cv accuracy (relu) = {:.4f}% +/- {:.4f}'.format(mean *100, variance *100) )"
      ],
      "execution_count": 0,
      "outputs": [
        {
          "output_type": "stream",
          "text": [
            "Mean cv accuracy (relu) = 99.7800% +/- 0.0452\n"
          ],
          "name": "stdout"
        }
      ]
    },
    {
      "metadata": {
        "id": "rYsBytp8Syid",
        "colab_type": "text"
      },
      "cell_type": "markdown",
      "source": [
        "### Validation "
      ]
    },
    {
      "metadata": {
        "id": "0EK5eKLkSyie",
        "colab_type": "code",
        "outputId": "b0e7c26e-ab43-4362-fe55-6ddeea11c706",
        "colab": {
          "base_uri": "https://localhost:8080/",
          "height": 34
        }
      },
      "cell_type": "code",
      "source": [
        "loss, accuracy = classifier.evaluate(X_val, y_val, batch_size = 10, verbose = 0)\n",
        "print(\"Validation set accuracy = {:.4f}%, Loss = {:.4f}\".format(accuracy* 100, loss))"
      ],
      "execution_count": 0,
      "outputs": [
        {
          "output_type": "stream",
          "text": [
            "Validation set accuracy = 99.7533%, Loss = 0.0130\n"
          ],
          "name": "stdout"
        }
      ]
    },
    {
      "metadata": {
        "id": "P-qOAX4ZSyig",
        "colab_type": "code",
        "outputId": "a01a96e8-f2fd-49cb-fbf5-6980ae9918df",
        "colab": {
          "base_uri": "https://localhost:8080/",
          "height": 34
        }
      },
      "cell_type": "code",
      "source": [
        "loss, accuracy = classifier.evaluate(X_train, y_train , batch_size = 128, verbose = 0)\n",
        "print(round(accuracy*100,2))"
      ],
      "execution_count": 0,
      "outputs": [
        {
          "output_type": "stream",
          "text": [
            "99.78\n"
          ],
          "name": "stdout"
        }
      ]
    },
    {
      "metadata": {
        "id": "UvDY_VaZSyih",
        "colab_type": "text"
      },
      "cell_type": "markdown",
      "source": [
        "### Optimization\n",
        "\n",
        "Using GridSearch"
      ]
    },
    {
      "metadata": {
        "id": "eJ1jJeHmSyij",
        "colab_type": "code",
        "outputId": "ed310d57-3d19-448c-d446-46ea6c9d2df9",
        "colab": {
          "base_uri": "https://localhost:8080/",
          "height": 51
        }
      },
      "cell_type": "code",
      "source": [
        "classifier_op = KerasClassifier(build_fn = classifier_model)\n",
        "\n",
        "parameters = {'batch_size'  : [10, 30],\n",
        "              'epochs'      : [10, 20],\n",
        "              'optimizer'   : ['adam', 'rmsprop'],\n",
        "              'activator'   : ['relu', 'sigmoid'],\n",
        "              'initializer' : ['uniform']}\n",
        "\n",
        "grid_search = GridSearchCV(estimator = classifier_op,\n",
        "                           param_grid = parameters,\n",
        "                           scoring = 'accuracy',\n",
        "                           cv = 10)\n",
        "\n",
        "grid_search = grid_search.fit(X_train, y_train)\n",
        "\n",
        "best_parameters = grid_search.best_params_\n",
        "best_accuracy = grid_search.best_score_"
      ],
      "execution_count": 0,
      "outputs": [
        {
          "output_type": "stream",
          "text": [
            "Epoch 1/10\n",
            "52640/54000 [============================>.] - ETA: 0s - loss: 0.0304 - acc: 0.9978"
          ],
          "name": "stdout"
        }
      ]
    },
    {
      "metadata": {
        "id": "aLkeUz9fSyik",
        "colab_type": "code",
        "colab": {}
      },
      "cell_type": "code",
      "source": [
        "best_accuracy"
      ],
      "execution_count": 0,
      "outputs": []
    },
    {
      "metadata": {
        "id": "sOcAqbbWSyim",
        "colab_type": "code",
        "colab": {}
      },
      "cell_type": "code",
      "source": [
        "best_parameters"
      ],
      "execution_count": 0,
      "outputs": []
    },
    {
      "metadata": {
        "id": "qjHeXnPRSyio",
        "colab_type": "text"
      },
      "cell_type": "markdown",
      "source": [
        "# OPTIMIZED MODEL "
      ]
    },
    {
      "metadata": {
        "id": "nGjvThN7Syip",
        "colab_type": "code",
        "colab": {}
      },
      "cell_type": "code",
      "source": [
        "activator   = 'relu'\n",
        "optimizer   = 'adam'\n",
        "initializer = 'uniform'\n",
        "epoch = 10 \n",
        "classifier_opt = classifier_model(activator, optimizer, initializer)\n",
        "classifier_opt.fit(X_train, y_train, batch_size = 10, epochs = epoch, verbose = 0)"
      ],
      "execution_count": 0,
      "outputs": []
    },
    {
      "metadata": {
        "id": "6YSbQG0KSyiu",
        "colab_type": "code",
        "colab": {}
      },
      "cell_type": "code",
      "source": [
        "# Predicting on the test set \n",
        "y_pred = classifier_opt.predict(X_test)\n",
        "y_pred "
      ],
      "execution_count": 0,
      "outputs": []
    },
    {
      "metadata": {
        "id": "BAelSqvnSyix",
        "colab_type": "code",
        "colab": {}
      },
      "cell_type": "code",
      "source": [
        "from sklearn.metrics import f1_score\n",
        "f1_score(y_test, y_pred.round(), average='weighted')"
      ],
      "execution_count": 0,
      "outputs": []
    },
    {
      "metadata": {
        "id": "Kt_iqIGiSyiz",
        "colab_type": "code",
        "colab": {}
      },
      "cell_type": "code",
      "source": [
        "y_pred.round()"
      ],
      "execution_count": 0,
      "outputs": []
    },
    {
      "metadata": {
        "id": "QK7hZKotSyi2",
        "colab_type": "code",
        "colab": {}
      },
      "cell_type": "code",
      "source": [
        "y_classes = y_pred.argmax(axis=-1)\n",
        "y_a = pd.DataFrame([y_classes])\n",
        "y_b = pd.DataFrame([y_test])\n",
        "y_c = pd.DataFrame([X_test_names])\n",
        "y_a = pd.concat((y_a,y_b, y_c)).T\n",
        "y_a.columns = ['predicted', 'actual','click_id']\n",
        "y_a.head()"
      ],
      "execution_count": 0,
      "outputs": []
    },
    {
      "metadata": {
        "id": "ae-JHx2HSyi3",
        "colab_type": "code",
        "colab": {}
      },
      "cell_type": "code",
      "source": [
        "# Number of mismatches within the test set\n",
        "y_a['dif'] = np.where(y_a.predicted == y_a.actual, 0, 1)\n",
        "y_a[y_a['dif'] == 1].actual.value_counts().sort_index()"
      ],
      "execution_count": 0,
      "outputs": []
    },
    {
      "metadata": {
        "id": "qWsxt6x8Syi8",
        "colab_type": "code",
        "colab": {}
      },
      "cell_type": "code",
      "source": [
        ""
      ],
      "execution_count": 0,
      "outputs": []
    },
    {
      "metadata": {
        "id": "KjUOyLLfSyjA",
        "colab_type": "code",
        "colab": {}
      },
      "cell_type": "code",
      "source": [
        "classifier_opt.save('classifier.hdf5')\n",
        "joblib.dump(sc, 'scaler.pkl') "
      ],
      "execution_count": 0,
      "outputs": []
    },
    {
      "metadata": {
        "id": "FUlC7AxaSyjB",
        "colab_type": "text"
      },
      "cell_type": "markdown",
      "source": [
        "------------------\n",
        "PREDICTION ON THE TESTING DATASET"
      ]
    },
    {
      "metadata": {
        "id": "XsW3G5SVSyjC",
        "colab_type": "code",
        "colab": {}
      },
      "cell_type": "code",
      "source": [
        "from keras.models import load_model\n",
        "classifier = load_model('classifier.hdf5')\n",
        "from sklearn.preprocessing import StandardScaler\n",
        "sc = joblib.load('scaler.pkl')"
      ],
      "execution_count": 0,
      "outputs": []
    },
    {
      "metadata": {
        "id": "LJpAjKMUSyjD",
        "colab_type": "code",
        "colab": {}
      },
      "cell_type": "code",
      "source": [
        "test = pd.read_csv('test.csv')"
      ],
      "execution_count": 0,
      "outputs": []
    },
    {
      "metadata": {
        "id": "-74ewUjkSyjH",
        "colab_type": "code",
        "outputId": "5180b261-11e5-4b89-874c-f34d42795b02",
        "colab": {}
      },
      "cell_type": "code",
      "source": [
        "test.head()"
      ],
      "execution_count": 0,
      "outputs": [
        {
          "output_type": "execute_result",
          "data": {
            "text/html": [
              "<div>\n",
              "<style>\n",
              "    .dataframe thead tr:only-child th {\n",
              "        text-align: right;\n",
              "    }\n",
              "\n",
              "    .dataframe thead th {\n",
              "        text-align: left;\n",
              "    }\n",
              "\n",
              "    .dataframe tbody tr th {\n",
              "        vertical-align: top;\n",
              "    }\n",
              "</style>\n",
              "<table border=\"1\" class=\"dataframe\">\n",
              "  <thead>\n",
              "    <tr style=\"text-align: right;\">\n",
              "      <th></th>\n",
              "      <th>click_id</th>\n",
              "      <th>ip</th>\n",
              "      <th>app</th>\n",
              "      <th>device</th>\n",
              "      <th>os</th>\n",
              "      <th>channel</th>\n",
              "      <th>click_time</th>\n",
              "    </tr>\n",
              "  </thead>\n",
              "  <tbody>\n",
              "    <tr>\n",
              "      <th>0</th>\n",
              "      <td>0</td>\n",
              "      <td>5744</td>\n",
              "      <td>9</td>\n",
              "      <td>1</td>\n",
              "      <td>3</td>\n",
              "      <td>107</td>\n",
              "      <td>2017-11-10 04:00:00</td>\n",
              "    </tr>\n",
              "    <tr>\n",
              "      <th>1</th>\n",
              "      <td>1</td>\n",
              "      <td>119901</td>\n",
              "      <td>9</td>\n",
              "      <td>1</td>\n",
              "      <td>3</td>\n",
              "      <td>466</td>\n",
              "      <td>2017-11-10 04:00:00</td>\n",
              "    </tr>\n",
              "    <tr>\n",
              "      <th>2</th>\n",
              "      <td>2</td>\n",
              "      <td>72287</td>\n",
              "      <td>21</td>\n",
              "      <td>1</td>\n",
              "      <td>19</td>\n",
              "      <td>128</td>\n",
              "      <td>2017-11-10 04:00:00</td>\n",
              "    </tr>\n",
              "    <tr>\n",
              "      <th>3</th>\n",
              "      <td>3</td>\n",
              "      <td>78477</td>\n",
              "      <td>15</td>\n",
              "      <td>1</td>\n",
              "      <td>13</td>\n",
              "      <td>111</td>\n",
              "      <td>2017-11-10 04:00:00</td>\n",
              "    </tr>\n",
              "    <tr>\n",
              "      <th>4</th>\n",
              "      <td>4</td>\n",
              "      <td>123080</td>\n",
              "      <td>12</td>\n",
              "      <td>1</td>\n",
              "      <td>13</td>\n",
              "      <td>328</td>\n",
              "      <td>2017-11-10 04:00:00</td>\n",
              "    </tr>\n",
              "  </tbody>\n",
              "</table>\n",
              "</div>"
            ],
            "text/plain": [
              "   click_id      ip  app  device  os  channel           click_time\n",
              "0         0    5744    9       1   3      107  2017-11-10 04:00:00\n",
              "1         1  119901    9       1   3      466  2017-11-10 04:00:00\n",
              "2         2   72287   21       1  19      128  2017-11-10 04:00:00\n",
              "3         3   78477   15       1  13      111  2017-11-10 04:00:00\n",
              "4         4  123080   12       1  13      328  2017-11-10 04:00:00"
            ]
          },
          "metadata": {
            "tags": []
          },
          "execution_count": 121
        }
      ]
    },
    {
      "metadata": {
        "id": "Xe6WGmarSyjK",
        "colab_type": "code",
        "colab": {}
      },
      "cell_type": "code",
      "source": [
        "# Convert click_time to datetime format\n",
        "test.click_time = pd.to_datetime(test.click_time, errors = 'ignore')"
      ],
      "execution_count": 0,
      "outputs": []
    },
    {
      "metadata": {
        "id": "VDUjXVF7SyjP",
        "colab_type": "code",
        "outputId": "cae633f6-e0aa-49d5-84ed-eb7f1518beca",
        "colab": {}
      },
      "cell_type": "code",
      "source": [
        "# Checking for NANs\n",
        "for col in test.columns:\n",
        "    print('{} contains {:,} NANs'.format(col,len(test[test[col].isnull()])))"
      ],
      "execution_count": 0,
      "outputs": [
        {
          "output_type": "stream",
          "text": [
            "click_id contains 0 NANs\n",
            "ip contains 0 NANs\n",
            "app contains 0 NANs\n",
            "device contains 0 NANs\n",
            "os contains 0 NANs\n",
            "channel contains 0 NANs\n",
            "click_time contains 0 NANs\n"
          ],
          "name": "stdout"
        }
      ]
    },
    {
      "metadata": {
        "id": "QB_oKu35SyjT",
        "colab_type": "code",
        "colab": {}
      },
      "cell_type": "code",
      "source": [
        "# Determine and coding time of the day the site was accessed\n",
        "# 1 = Night, 2 = Morning, 3 = Afternoon, 4 = Evening\n",
        "test = test.assign(session=pd.cut(test.click_time.dt.hour,[-1,6,12,18,24],labels=[1, 2, 3,4 ]))\n",
        "test = test.drop('click_time', 1)"
      ],
      "execution_count": 0,
      "outputs": []
    },
    {
      "metadata": {
        "id": "Oy1jhCkoSyjV",
        "colab_type": "code",
        "outputId": "afad289d-3261-4e05-e8fc-9606ef2d8118",
        "colab": {}
      },
      "cell_type": "code",
      "source": [
        "test.columns"
      ],
      "execution_count": 0,
      "outputs": [
        {
          "output_type": "execute_result",
          "data": {
            "text/plain": [
              "Index(['click_id', 'ip', 'app', 'device', 'os', 'channel', 'session'], dtype='object')"
            ]
          },
          "metadata": {
            "tags": []
          },
          "execution_count": 127
        }
      ]
    },
    {
      "metadata": {
        "id": "c1JISTDhSyjb",
        "colab_type": "code",
        "colab": {}
      },
      "cell_type": "code",
      "source": [
        "test = test[['ip', 'app', 'device', 'os', 'channel', 'session']]"
      ],
      "execution_count": 0,
      "outputs": []
    },
    {
      "metadata": {
        "id": "5GKGgsglSyjf",
        "colab_type": "code",
        "outputId": "2289b91f-65c2-4924-e68a-a48e6fd8de06",
        "colab": {}
      },
      "cell_type": "code",
      "source": [
        "# Using the dictionary to label future data\n",
        "test.apply(lambda x: d[x.name].transform(x))"
      ],
      "execution_count": 0,
      "outputs": [
        {
          "output_type": "error",
          "ename": "ValueError",
          "evalue": "('y contains new labels: [     0      1      2 ..., 126409 126412 126413]', 'occurred at index ip')",
          "traceback": [
            "\u001b[0;31m---------------------------------------------------------------------------\u001b[0m",
            "\u001b[0;31mValueError\u001b[0m                                Traceback (most recent call last)",
            "\u001b[0;32m<ipython-input-129-062395358671>\u001b[0m in \u001b[0;36m<module>\u001b[0;34m()\u001b[0m\n\u001b[1;32m      1\u001b[0m \u001b[0;31m# Using the dictionary to label future data\u001b[0m\u001b[0;34m\u001b[0m\u001b[0;34m\u001b[0m\u001b[0m\n\u001b[0;32m----> 2\u001b[0;31m \u001b[0mtest\u001b[0m\u001b[0;34m.\u001b[0m\u001b[0mapply\u001b[0m\u001b[0;34m(\u001b[0m\u001b[0;32mlambda\u001b[0m \u001b[0mx\u001b[0m\u001b[0;34m:\u001b[0m \u001b[0md\u001b[0m\u001b[0;34m[\u001b[0m\u001b[0mx\u001b[0m\u001b[0;34m.\u001b[0m\u001b[0mname\u001b[0m\u001b[0;34m]\u001b[0m\u001b[0;34m.\u001b[0m\u001b[0mtransform\u001b[0m\u001b[0;34m(\u001b[0m\u001b[0mx\u001b[0m\u001b[0;34m)\u001b[0m\u001b[0;34m)\u001b[0m\u001b[0;34m\u001b[0m\u001b[0m\n\u001b[0m",
            "\u001b[0;32m~/anaconda/lib/python3.6/site-packages/pandas/core/frame.py\u001b[0m in \u001b[0;36mapply\u001b[0;34m(self, func, axis, broadcast, raw, reduce, args, **kwds)\u001b[0m\n\u001b[1;32m   4260\u001b[0m                         \u001b[0mf\u001b[0m\u001b[0;34m,\u001b[0m \u001b[0maxis\u001b[0m\u001b[0;34m,\u001b[0m\u001b[0;34m\u001b[0m\u001b[0m\n\u001b[1;32m   4261\u001b[0m                         \u001b[0mreduce\u001b[0m\u001b[0;34m=\u001b[0m\u001b[0mreduce\u001b[0m\u001b[0;34m,\u001b[0m\u001b[0;34m\u001b[0m\u001b[0m\n\u001b[0;32m-> 4262\u001b[0;31m                         ignore_failures=ignore_failures)\n\u001b[0m\u001b[1;32m   4263\u001b[0m             \u001b[0;32melse\u001b[0m\u001b[0;34m:\u001b[0m\u001b[0;34m\u001b[0m\u001b[0m\n\u001b[1;32m   4264\u001b[0m                 \u001b[0;32mreturn\u001b[0m \u001b[0mself\u001b[0m\u001b[0;34m.\u001b[0m\u001b[0m_apply_broadcast\u001b[0m\u001b[0;34m(\u001b[0m\u001b[0mf\u001b[0m\u001b[0;34m,\u001b[0m \u001b[0maxis\u001b[0m\u001b[0;34m)\u001b[0m\u001b[0;34m\u001b[0m\u001b[0m\n",
            "\u001b[0;32m~/anaconda/lib/python3.6/site-packages/pandas/core/frame.py\u001b[0m in \u001b[0;36m_apply_standard\u001b[0;34m(self, func, axis, ignore_failures, reduce)\u001b[0m\n\u001b[1;32m   4356\u001b[0m             \u001b[0;32mtry\u001b[0m\u001b[0;34m:\u001b[0m\u001b[0;34m\u001b[0m\u001b[0m\n\u001b[1;32m   4357\u001b[0m                 \u001b[0;32mfor\u001b[0m \u001b[0mi\u001b[0m\u001b[0;34m,\u001b[0m \u001b[0mv\u001b[0m \u001b[0;32min\u001b[0m \u001b[0menumerate\u001b[0m\u001b[0;34m(\u001b[0m\u001b[0mseries_gen\u001b[0m\u001b[0;34m)\u001b[0m\u001b[0;34m:\u001b[0m\u001b[0;34m\u001b[0m\u001b[0m\n\u001b[0;32m-> 4358\u001b[0;31m                     \u001b[0mresults\u001b[0m\u001b[0;34m[\u001b[0m\u001b[0mi\u001b[0m\u001b[0;34m]\u001b[0m \u001b[0;34m=\u001b[0m \u001b[0mfunc\u001b[0m\u001b[0;34m(\u001b[0m\u001b[0mv\u001b[0m\u001b[0;34m)\u001b[0m\u001b[0;34m\u001b[0m\u001b[0m\n\u001b[0m\u001b[1;32m   4359\u001b[0m                     \u001b[0mkeys\u001b[0m\u001b[0;34m.\u001b[0m\u001b[0mappend\u001b[0m\u001b[0;34m(\u001b[0m\u001b[0mv\u001b[0m\u001b[0;34m.\u001b[0m\u001b[0mname\u001b[0m\u001b[0;34m)\u001b[0m\u001b[0;34m\u001b[0m\u001b[0m\n\u001b[1;32m   4360\u001b[0m             \u001b[0;32mexcept\u001b[0m \u001b[0mException\u001b[0m \u001b[0;32mas\u001b[0m \u001b[0me\u001b[0m\u001b[0;34m:\u001b[0m\u001b[0;34m\u001b[0m\u001b[0m\n",
            "\u001b[0;32m<ipython-input-129-062395358671>\u001b[0m in \u001b[0;36m<lambda>\u001b[0;34m(x)\u001b[0m\n\u001b[1;32m      1\u001b[0m \u001b[0;31m# Using the dictionary to label future data\u001b[0m\u001b[0;34m\u001b[0m\u001b[0;34m\u001b[0m\u001b[0m\n\u001b[0;32m----> 2\u001b[0;31m \u001b[0mtest\u001b[0m\u001b[0;34m.\u001b[0m\u001b[0mapply\u001b[0m\u001b[0;34m(\u001b[0m\u001b[0;32mlambda\u001b[0m \u001b[0mx\u001b[0m\u001b[0;34m:\u001b[0m \u001b[0md\u001b[0m\u001b[0;34m[\u001b[0m\u001b[0mx\u001b[0m\u001b[0;34m.\u001b[0m\u001b[0mname\u001b[0m\u001b[0;34m]\u001b[0m\u001b[0;34m.\u001b[0m\u001b[0mtransform\u001b[0m\u001b[0;34m(\u001b[0m\u001b[0mx\u001b[0m\u001b[0;34m)\u001b[0m\u001b[0;34m)\u001b[0m\u001b[0;34m\u001b[0m\u001b[0m\n\u001b[0m",
            "\u001b[0;32m~/anaconda/lib/python3.6/site-packages/sklearn/preprocessing/label.py\u001b[0m in \u001b[0;36mtransform\u001b[0;34m(self, y)\u001b[0m\n\u001b[1;32m    131\u001b[0m         \u001b[0;32mif\u001b[0m \u001b[0mlen\u001b[0m\u001b[0;34m(\u001b[0m\u001b[0mnp\u001b[0m\u001b[0;34m.\u001b[0m\u001b[0mintersect1d\u001b[0m\u001b[0;34m(\u001b[0m\u001b[0mclasses\u001b[0m\u001b[0;34m,\u001b[0m \u001b[0mself\u001b[0m\u001b[0;34m.\u001b[0m\u001b[0mclasses_\u001b[0m\u001b[0;34m)\u001b[0m\u001b[0;34m)\u001b[0m \u001b[0;34m<\u001b[0m \u001b[0mlen\u001b[0m\u001b[0;34m(\u001b[0m\u001b[0mclasses\u001b[0m\u001b[0;34m)\u001b[0m\u001b[0;34m:\u001b[0m\u001b[0;34m\u001b[0m\u001b[0m\n\u001b[1;32m    132\u001b[0m             \u001b[0mdiff\u001b[0m \u001b[0;34m=\u001b[0m \u001b[0mnp\u001b[0m\u001b[0;34m.\u001b[0m\u001b[0msetdiff1d\u001b[0m\u001b[0;34m(\u001b[0m\u001b[0mclasses\u001b[0m\u001b[0;34m,\u001b[0m \u001b[0mself\u001b[0m\u001b[0;34m.\u001b[0m\u001b[0mclasses_\u001b[0m\u001b[0;34m)\u001b[0m\u001b[0;34m\u001b[0m\u001b[0m\n\u001b[0;32m--> 133\u001b[0;31m             \u001b[0;32mraise\u001b[0m \u001b[0mValueError\u001b[0m\u001b[0;34m(\u001b[0m\u001b[0;34m\"y contains new labels: %s\"\u001b[0m \u001b[0;34m%\u001b[0m \u001b[0mstr\u001b[0m\u001b[0;34m(\u001b[0m\u001b[0mdiff\u001b[0m\u001b[0;34m)\u001b[0m\u001b[0;34m)\u001b[0m\u001b[0;34m\u001b[0m\u001b[0m\n\u001b[0m\u001b[1;32m    134\u001b[0m         \u001b[0;32mreturn\u001b[0m \u001b[0mnp\u001b[0m\u001b[0;34m.\u001b[0m\u001b[0msearchsorted\u001b[0m\u001b[0;34m(\u001b[0m\u001b[0mself\u001b[0m\u001b[0;34m.\u001b[0m\u001b[0mclasses_\u001b[0m\u001b[0;34m,\u001b[0m \u001b[0my\u001b[0m\u001b[0;34m)\u001b[0m\u001b[0;34m\u001b[0m\u001b[0m\n\u001b[1;32m    135\u001b[0m \u001b[0;34m\u001b[0m\u001b[0m\n",
            "\u001b[0;31mValueError\u001b[0m: ('y contains new labels: [     0      1      2 ..., 126409 126412 126413]', 'occurred at index ip')"
          ]
        }
      ]
    },
    {
      "metadata": {
        "id": "upINKTvsSyjl",
        "colab_type": "code",
        "colab": {}
      },
      "cell_type": "code",
      "source": [
        "test = test.reset_index(drop = False)\n",
        "test = test.rename(columns={'index':'click_id'})\n",
        "test.head()"
      ],
      "execution_count": 0,
      "outputs": []
    },
    {
      "metadata": {
        "id": "gTrwji7ASyjo",
        "colab_type": "code",
        "colab": {}
      },
      "cell_type": "code",
      "source": [
        "print(len(test.channel.unique()))\n",
        "test.channel.value_counts().sort_index()"
      ],
      "execution_count": 0,
      "outputs": []
    },
    {
      "metadata": {
        "id": "5jdqDefNSyjq",
        "colab_type": "code",
        "colab": {}
      },
      "cell_type": "code",
      "source": [
        "test.dtypes"
      ],
      "execution_count": 0,
      "outputs": []
    },
    {
      "metadata": {
        "id": "LOQlm1VgSyjv",
        "colab_type": "code",
        "colab": {}
      },
      "cell_type": "code",
      "source": [
        "test_x_names = test.click_id\n",
        "test_x = test.drop('click_id', 1)\n"
      ],
      "execution_count": 0,
      "outputs": []
    },
    {
      "metadata": {
        "id": "3441jztTSyjw",
        "colab_type": "code",
        "colab": {}
      },
      "cell_type": "code",
      "source": [
        "X_2016 = sc.transform(test_x)"
      ],
      "execution_count": 0,
      "outputs": []
    },
    {
      "metadata": {
        "id": "NOu2ndYYSyjy",
        "colab_type": "code",
        "colab": {}
      },
      "cell_type": "code",
      "source": [
        "# Predicting on the test set \n",
        "predictions = classifier.predict(X_2016)\n",
        "predictions"
      ],
      "execution_count": 0,
      "outputs": []
    },
    {
      "metadata": {
        "id": "ahwVpiq1Syj0",
        "colab_type": "code",
        "colab": {}
      },
      "cell_type": "code",
      "source": [
        "pred_clas = classifier.predict_classes(X_2016)"
      ],
      "execution_count": 0,
      "outputs": []
    },
    {
      "metadata": {
        "id": "W0A10tYPSyj3",
        "colab_type": "code",
        "colab": {}
      },
      "cell_type": "code",
      "source": [
        "labels_ = predictions.argmax(axis=1)\n",
        "#labels_ = labels_> 0.5\n",
        "labels_"
      ],
      "execution_count": 0,
      "outputs": []
    },
    {
      "metadata": {
        "id": "9yvAGLkGSyj4",
        "colab_type": "code",
        "colab": {}
      },
      "cell_type": "code",
      "source": [
        "a = pd.concat([pd.DataFrame(test_x_names), pd.DataFrame(predictions)], axis =1).rename(columns={0:'is_attributed'})        "
      ],
      "execution_count": 0,
      "outputs": []
    },
    {
      "metadata": {
        "id": "s0_dDxe0Syj5",
        "colab_type": "code",
        "colab": {}
      },
      "cell_type": "code",
      "source": [
        "a.to_csv('First.csv', header = True, index = False)"
      ],
      "execution_count": 0,
      "outputs": []
    },
    {
      "metadata": {
        "id": "5zshNEW7Syj7",
        "colab_type": "code",
        "colab": {}
      },
      "cell_type": "code",
      "source": [
        "a.to_csv('primera.csv', header = True, index = False)"
      ],
      "execution_count": 0,
      "outputs": []
    },
    {
      "metadata": {
        "id": "TQQGt4wxSyj8",
        "colab_type": "code",
        "colab": {}
      },
      "cell_type": "code",
      "source": [
        "predictions1 = predictions"
      ],
      "execution_count": 0,
      "outputs": []
    },
    {
      "metadata": {
        "id": "1AUnXbMHSyj-",
        "colab_type": "code",
        "colab": {}
      },
      "cell_type": "code",
      "source": [
        ""
      ],
      "execution_count": 0,
      "outputs": []
    }
  ]
}